{
 "cells": [
  {
   "cell_type": "code",
   "execution_count": 1,
   "id": "02da2750-44a4-4892-8ab9-70d19815b9bd",
   "metadata": {},
   "outputs": [],
   "source": [
    "import numpy as np"
   ]
  },
  {
   "cell_type": "code",
   "execution_count": 2,
   "id": "56666345-0812-490f-ae28-43149b167cd9",
   "metadata": {},
   "outputs": [],
   "source": [
    "import pandas as pd"
   ]
  },
  {
   "cell_type": "code",
   "execution_count": 3,
   "id": "e08649de-9cc0-485d-aced-9ae46c41184a",
   "metadata": {},
   "outputs": [],
   "source": [
    "import matplotlib.pyplot as plt"
   ]
  },
  {
   "cell_type": "code",
   "execution_count": 4,
   "id": "450d6bbc-fa55-45e5-9cac-8f9de4d2c4c6",
   "metadata": {},
   "outputs": [],
   "source": [
    "import seaborn as sns"
   ]
  },
  {
   "cell_type": "markdown",
   "id": "391f3513-ed4d-47ef-b954-10b4962b3e30",
   "metadata": {},
   "source": [
    "# Loading the data into notebook -->"
   ]
  },
  {
   "cell_type": "code",
   "execution_count": 143,
   "id": "417fda8f-b8b5-49f5-987c-563907bc5b43",
   "metadata": {},
   "outputs": [
    {
     "data": {
      "text/html": [
       "<div>\n",
       "<style scoped>\n",
       "    .dataframe tbody tr th:only-of-type {\n",
       "        vertical-align: middle;\n",
       "    }\n",
       "\n",
       "    .dataframe tbody tr th {\n",
       "        vertical-align: top;\n",
       "    }\n",
       "\n",
       "    .dataframe thead th {\n",
       "        text-align: right;\n",
       "    }\n",
       "</style>\n",
       "<table border=\"1\" class=\"dataframe\">\n",
       "  <thead>\n",
       "    <tr style=\"text-align: right;\">\n",
       "      <th></th>\n",
       "      <th>ORDERNUMBER</th>\n",
       "      <th>QUANTITYORDERED</th>\n",
       "      <th>PRICEEACH</th>\n",
       "      <th>ORDERLINENUMBER</th>\n",
       "      <th>SALES</th>\n",
       "      <th>ORDERDATE</th>\n",
       "      <th>STATUS</th>\n",
       "      <th>QTR_ID</th>\n",
       "      <th>MONTH_ID</th>\n",
       "      <th>YEAR_ID</th>\n",
       "      <th>...</th>\n",
       "      <th>ADDRESSLINE1</th>\n",
       "      <th>ADDRESSLINE2</th>\n",
       "      <th>CITY</th>\n",
       "      <th>STATE</th>\n",
       "      <th>POSTALCODE</th>\n",
       "      <th>COUNTRY</th>\n",
       "      <th>TERRITORY</th>\n",
       "      <th>CONTACTLASTNAME</th>\n",
       "      <th>CONTACTFIRSTNAME</th>\n",
       "      <th>DEALSIZE</th>\n",
       "    </tr>\n",
       "  </thead>\n",
       "  <tbody>\n",
       "    <tr>\n",
       "      <th>0</th>\n",
       "      <td>10107</td>\n",
       "      <td>30</td>\n",
       "      <td>95.70</td>\n",
       "      <td>2</td>\n",
       "      <td>2871.00</td>\n",
       "      <td>2/24/2003 0:00</td>\n",
       "      <td>Shipped</td>\n",
       "      <td>1</td>\n",
       "      <td>2</td>\n",
       "      <td>2003</td>\n",
       "      <td>...</td>\n",
       "      <td>897 Long Airport Avenue</td>\n",
       "      <td>NaN</td>\n",
       "      <td>NYC</td>\n",
       "      <td>NY</td>\n",
       "      <td>10022</td>\n",
       "      <td>USA</td>\n",
       "      <td>NaN</td>\n",
       "      <td>Yu</td>\n",
       "      <td>Kwai</td>\n",
       "      <td>Small</td>\n",
       "    </tr>\n",
       "    <tr>\n",
       "      <th>1</th>\n",
       "      <td>10121</td>\n",
       "      <td>34</td>\n",
       "      <td>81.35</td>\n",
       "      <td>5</td>\n",
       "      <td>2765.90</td>\n",
       "      <td>05-07-2003 00:00</td>\n",
       "      <td>Shipped</td>\n",
       "      <td>2</td>\n",
       "      <td>5</td>\n",
       "      <td>2003</td>\n",
       "      <td>...</td>\n",
       "      <td>59 rue de l'Abbaye</td>\n",
       "      <td>NaN</td>\n",
       "      <td>Reims</td>\n",
       "      <td>NaN</td>\n",
       "      <td>51100</td>\n",
       "      <td>France</td>\n",
       "      <td>EMEA</td>\n",
       "      <td>Henriot</td>\n",
       "      <td>Paul</td>\n",
       "      <td>Small</td>\n",
       "    </tr>\n",
       "    <tr>\n",
       "      <th>2</th>\n",
       "      <td>10134</td>\n",
       "      <td>41</td>\n",
       "      <td>94.74</td>\n",
       "      <td>2</td>\n",
       "      <td>3884.34</td>\n",
       "      <td>07-01-2003 00:00</td>\n",
       "      <td>Shipped</td>\n",
       "      <td>3</td>\n",
       "      <td>7</td>\n",
       "      <td>2003</td>\n",
       "      <td>...</td>\n",
       "      <td>27 rue du Colonel Pierre Avia</td>\n",
       "      <td>NaN</td>\n",
       "      <td>Paris</td>\n",
       "      <td>NaN</td>\n",
       "      <td>75508</td>\n",
       "      <td>France</td>\n",
       "      <td>EMEA</td>\n",
       "      <td>Da Cunha</td>\n",
       "      <td>Daniel</td>\n",
       "      <td>Medium</td>\n",
       "    </tr>\n",
       "    <tr>\n",
       "      <th>3</th>\n",
       "      <td>10145</td>\n",
       "      <td>45</td>\n",
       "      <td>83.26</td>\n",
       "      <td>6</td>\n",
       "      <td>3746.70</td>\n",
       "      <td>8/25/2003 0:00</td>\n",
       "      <td>Shipped</td>\n",
       "      <td>3</td>\n",
       "      <td>8</td>\n",
       "      <td>2003</td>\n",
       "      <td>...</td>\n",
       "      <td>78934 Hillside Dr.</td>\n",
       "      <td>NaN</td>\n",
       "      <td>Pasadena</td>\n",
       "      <td>CA</td>\n",
       "      <td>90003</td>\n",
       "      <td>USA</td>\n",
       "      <td>NaN</td>\n",
       "      <td>Young</td>\n",
       "      <td>Julie</td>\n",
       "      <td>Medium</td>\n",
       "    </tr>\n",
       "    <tr>\n",
       "      <th>4</th>\n",
       "      <td>10159</td>\n",
       "      <td>49</td>\n",
       "      <td>100.00</td>\n",
       "      <td>14</td>\n",
       "      <td>5205.27</td>\n",
       "      <td>10-10-2003 00:00</td>\n",
       "      <td>Shipped</td>\n",
       "      <td>4</td>\n",
       "      <td>10</td>\n",
       "      <td>2003</td>\n",
       "      <td>...</td>\n",
       "      <td>7734 Strong St.</td>\n",
       "      <td>NaN</td>\n",
       "      <td>San Francisco</td>\n",
       "      <td>CA</td>\n",
       "      <td>NaN</td>\n",
       "      <td>USA</td>\n",
       "      <td>NaN</td>\n",
       "      <td>Brown</td>\n",
       "      <td>Julie</td>\n",
       "      <td>Medium</td>\n",
       "    </tr>\n",
       "    <tr>\n",
       "      <th>...</th>\n",
       "      <td>...</td>\n",
       "      <td>...</td>\n",
       "      <td>...</td>\n",
       "      <td>...</td>\n",
       "      <td>...</td>\n",
       "      <td>...</td>\n",
       "      <td>...</td>\n",
       "      <td>...</td>\n",
       "      <td>...</td>\n",
       "      <td>...</td>\n",
       "      <td>...</td>\n",
       "      <td>...</td>\n",
       "      <td>...</td>\n",
       "      <td>...</td>\n",
       "      <td>...</td>\n",
       "      <td>...</td>\n",
       "      <td>...</td>\n",
       "      <td>...</td>\n",
       "      <td>...</td>\n",
       "      <td>...</td>\n",
       "      <td>...</td>\n",
       "    </tr>\n",
       "    <tr>\n",
       "      <th>2818</th>\n",
       "      <td>10350</td>\n",
       "      <td>20</td>\n",
       "      <td>100.00</td>\n",
       "      <td>15</td>\n",
       "      <td>2244.40</td>\n",
       "      <td>12-02-2004 00:00</td>\n",
       "      <td>Shipped</td>\n",
       "      <td>4</td>\n",
       "      <td>12</td>\n",
       "      <td>2004</td>\n",
       "      <td>...</td>\n",
       "      <td>C/ Moralzarzal, 86</td>\n",
       "      <td>NaN</td>\n",
       "      <td>Madrid</td>\n",
       "      <td>NaN</td>\n",
       "      <td>28034</td>\n",
       "      <td>Spain</td>\n",
       "      <td>EMEA</td>\n",
       "      <td>Freyre</td>\n",
       "      <td>Diego</td>\n",
       "      <td>Small</td>\n",
       "    </tr>\n",
       "    <tr>\n",
       "      <th>2819</th>\n",
       "      <td>10373</td>\n",
       "      <td>29</td>\n",
       "      <td>100.00</td>\n",
       "      <td>1</td>\n",
       "      <td>3978.51</td>\n",
       "      <td>1/31/2005 0:00</td>\n",
       "      <td>Shipped</td>\n",
       "      <td>1</td>\n",
       "      <td>1</td>\n",
       "      <td>2005</td>\n",
       "      <td>...</td>\n",
       "      <td>Torikatu 38</td>\n",
       "      <td>NaN</td>\n",
       "      <td>Oulu</td>\n",
       "      <td>NaN</td>\n",
       "      <td>90110</td>\n",
       "      <td>Finland</td>\n",
       "      <td>EMEA</td>\n",
       "      <td>Koskitalo</td>\n",
       "      <td>Pirkko</td>\n",
       "      <td>Medium</td>\n",
       "    </tr>\n",
       "    <tr>\n",
       "      <th>2820</th>\n",
       "      <td>10386</td>\n",
       "      <td>43</td>\n",
       "      <td>100.00</td>\n",
       "      <td>4</td>\n",
       "      <td>5417.57</td>\n",
       "      <td>03-01-2005 00:00</td>\n",
       "      <td>Resolved</td>\n",
       "      <td>1</td>\n",
       "      <td>3</td>\n",
       "      <td>2005</td>\n",
       "      <td>...</td>\n",
       "      <td>C/ Moralzarzal, 86</td>\n",
       "      <td>NaN</td>\n",
       "      <td>Madrid</td>\n",
       "      <td>NaN</td>\n",
       "      <td>28034</td>\n",
       "      <td>Spain</td>\n",
       "      <td>EMEA</td>\n",
       "      <td>Freyre</td>\n",
       "      <td>Diego</td>\n",
       "      <td>Medium</td>\n",
       "    </tr>\n",
       "    <tr>\n",
       "      <th>2821</th>\n",
       "      <td>10397</td>\n",
       "      <td>34</td>\n",
       "      <td>62.24</td>\n",
       "      <td>1</td>\n",
       "      <td>2116.16</td>\n",
       "      <td>3/28/2005 0:00</td>\n",
       "      <td>Shipped</td>\n",
       "      <td>1</td>\n",
       "      <td>3</td>\n",
       "      <td>2005</td>\n",
       "      <td>...</td>\n",
       "      <td>1 rue Alsace-Lorraine</td>\n",
       "      <td>NaN</td>\n",
       "      <td>Toulouse</td>\n",
       "      <td>NaN</td>\n",
       "      <td>31000</td>\n",
       "      <td>France</td>\n",
       "      <td>EMEA</td>\n",
       "      <td>Roulet</td>\n",
       "      <td>Annette</td>\n",
       "      <td>Small</td>\n",
       "    </tr>\n",
       "    <tr>\n",
       "      <th>2822</th>\n",
       "      <td>10414</td>\n",
       "      <td>47</td>\n",
       "      <td>65.52</td>\n",
       "      <td>9</td>\n",
       "      <td>3079.44</td>\n",
       "      <td>05-06-2005 00:00</td>\n",
       "      <td>On Hold</td>\n",
       "      <td>2</td>\n",
       "      <td>5</td>\n",
       "      <td>2005</td>\n",
       "      <td>...</td>\n",
       "      <td>8616 Spinnaker Dr.</td>\n",
       "      <td>NaN</td>\n",
       "      <td>Boston</td>\n",
       "      <td>MA</td>\n",
       "      <td>51003</td>\n",
       "      <td>USA</td>\n",
       "      <td>NaN</td>\n",
       "      <td>Yoshido</td>\n",
       "      <td>Juri</td>\n",
       "      <td>Medium</td>\n",
       "    </tr>\n",
       "  </tbody>\n",
       "</table>\n",
       "<p>2823 rows × 25 columns</p>\n",
       "</div>"
      ],
      "text/plain": [
       "      ORDERNUMBER  QUANTITYORDERED  PRICEEACH  ORDERLINENUMBER    SALES  \\\n",
       "0           10107               30      95.70                2  2871.00   \n",
       "1           10121               34      81.35                5  2765.90   \n",
       "2           10134               41      94.74                2  3884.34   \n",
       "3           10145               45      83.26                6  3746.70   \n",
       "4           10159               49     100.00               14  5205.27   \n",
       "...           ...              ...        ...              ...      ...   \n",
       "2818        10350               20     100.00               15  2244.40   \n",
       "2819        10373               29     100.00                1  3978.51   \n",
       "2820        10386               43     100.00                4  5417.57   \n",
       "2821        10397               34      62.24                1  2116.16   \n",
       "2822        10414               47      65.52                9  3079.44   \n",
       "\n",
       "             ORDERDATE    STATUS  QTR_ID  MONTH_ID  YEAR_ID  ...  \\\n",
       "0       2/24/2003 0:00   Shipped       1         2     2003  ...   \n",
       "1     05-07-2003 00:00   Shipped       2         5     2003  ...   \n",
       "2     07-01-2003 00:00   Shipped       3         7     2003  ...   \n",
       "3       8/25/2003 0:00   Shipped       3         8     2003  ...   \n",
       "4     10-10-2003 00:00   Shipped       4        10     2003  ...   \n",
       "...                ...       ...     ...       ...      ...  ...   \n",
       "2818  12-02-2004 00:00   Shipped       4        12     2004  ...   \n",
       "2819    1/31/2005 0:00   Shipped       1         1     2005  ...   \n",
       "2820  03-01-2005 00:00  Resolved       1         3     2005  ...   \n",
       "2821    3/28/2005 0:00   Shipped       1         3     2005  ...   \n",
       "2822  05-06-2005 00:00   On Hold       2         5     2005  ...   \n",
       "\n",
       "                       ADDRESSLINE1  ADDRESSLINE2           CITY STATE  \\\n",
       "0           897 Long Airport Avenue           NaN            NYC    NY   \n",
       "1                59 rue de l'Abbaye           NaN          Reims   NaN   \n",
       "2     27 rue du Colonel Pierre Avia           NaN          Paris   NaN   \n",
       "3                78934 Hillside Dr.           NaN       Pasadena    CA   \n",
       "4                   7734 Strong St.           NaN  San Francisco    CA   \n",
       "...                             ...           ...            ...   ...   \n",
       "2818             C/ Moralzarzal, 86           NaN         Madrid   NaN   \n",
       "2819                    Torikatu 38           NaN           Oulu   NaN   \n",
       "2820             C/ Moralzarzal, 86           NaN         Madrid   NaN   \n",
       "2821          1 rue Alsace-Lorraine           NaN       Toulouse   NaN   \n",
       "2822             8616 Spinnaker Dr.           NaN         Boston    MA   \n",
       "\n",
       "     POSTALCODE  COUNTRY TERRITORY CONTACTLASTNAME CONTACTFIRSTNAME DEALSIZE  \n",
       "0         10022      USA       NaN              Yu             Kwai    Small  \n",
       "1         51100   France      EMEA         Henriot             Paul    Small  \n",
       "2         75508   France      EMEA        Da Cunha           Daniel   Medium  \n",
       "3         90003      USA       NaN           Young            Julie   Medium  \n",
       "4           NaN      USA       NaN           Brown            Julie   Medium  \n",
       "...         ...      ...       ...             ...              ...      ...  \n",
       "2818      28034    Spain      EMEA          Freyre            Diego    Small  \n",
       "2819      90110  Finland      EMEA       Koskitalo           Pirkko   Medium  \n",
       "2820      28034    Spain      EMEA          Freyre            Diego   Medium  \n",
       "2821      31000   France      EMEA          Roulet          Annette    Small  \n",
       "2822      51003      USA       NaN         Yoshido             Juri   Medium  \n",
       "\n",
       "[2823 rows x 25 columns]"
      ]
     },
     "execution_count": 143,
     "metadata": {},
     "output_type": "execute_result"
    }
   ],
   "source": [
    "df = pd.read_csv(r'C:\\Users\\Sarik\\Downloads\\Projects For DA\\Python\\Sales\\sale.csv')\n",
    "df"
   ]
  },
  {
   "cell_type": "markdown",
   "id": "3cf10469-43c1-41fe-a868-82cf13cdffee",
   "metadata": {},
   "source": [
    "# checking the rows and columns count"
   ]
  },
  {
   "cell_type": "code",
   "execution_count": 144,
   "id": "ede0a959-37b3-4c52-849f-e6d0f43a2b75",
   "metadata": {},
   "outputs": [
    {
     "data": {
      "text/plain": [
       "(2823, 25)"
      ]
     },
     "execution_count": 144,
     "metadata": {},
     "output_type": "execute_result"
    }
   ],
   "source": [
    "df.shape"
   ]
  },
  {
   "cell_type": "markdown",
   "id": "ac09ad24-a9ea-4a4d-a351-ef4ef3d97d92",
   "metadata": {},
   "source": [
    "# checking the total columns "
   ]
  },
  {
   "cell_type": "code",
   "execution_count": 145,
   "id": "abc81d1a-4446-4c3b-a6ae-4792e4ff5019",
   "metadata": {},
   "outputs": [
    {
     "data": {
      "text/plain": [
       "Index(['ORDERNUMBER', 'QUANTITYORDERED', 'PRICEEACH', 'ORDERLINENUMBER',\n",
       "       'SALES', 'ORDERDATE', 'STATUS', 'QTR_ID', 'MONTH_ID', 'YEAR_ID',\n",
       "       'PRODUCTLINE', 'MSRP', 'PRODUCTCODE', 'CUSTOMERNAME', 'PHONE',\n",
       "       'ADDRESSLINE1', 'ADDRESSLINE2', 'CITY', 'STATE', 'POSTALCODE',\n",
       "       'COUNTRY', 'TERRITORY', 'CONTACTLASTNAME', 'CONTACTFIRSTNAME',\n",
       "       'DEALSIZE'],\n",
       "      dtype='object')"
      ]
     },
     "execution_count": 145,
     "metadata": {},
     "output_type": "execute_result"
    }
   ],
   "source": [
    "df.columns"
   ]
  },
  {
   "cell_type": "markdown",
   "id": "6e9fdcf5-5510-4be8-82c7-dd2b2b6f4c18",
   "metadata": {},
   "source": [
    "# evaluting the columns data types and column"
   ]
  },
  {
   "cell_type": "code",
   "execution_count": 146,
   "id": "13ba35ce-ddee-4792-b7c1-efa7f9965b65",
   "metadata": {},
   "outputs": [
    {
     "name": "stdout",
     "output_type": "stream",
     "text": [
      "<class 'pandas.core.frame.DataFrame'>\n",
      "RangeIndex: 2823 entries, 0 to 2822\n",
      "Data columns (total 25 columns):\n",
      " #   Column            Non-Null Count  Dtype  \n",
      "---  ------            --------------  -----  \n",
      " 0   ORDERNUMBER       2823 non-null   int64  \n",
      " 1   QUANTITYORDERED   2823 non-null   int64  \n",
      " 2   PRICEEACH         2823 non-null   float64\n",
      " 3   ORDERLINENUMBER   2823 non-null   int64  \n",
      " 4   SALES             2823 non-null   float64\n",
      " 5   ORDERDATE         2823 non-null   object \n",
      " 6   STATUS            2823 non-null   object \n",
      " 7   QTR_ID            2823 non-null   int64  \n",
      " 8   MONTH_ID          2823 non-null   int64  \n",
      " 9   YEAR_ID           2823 non-null   int64  \n",
      " 10  PRODUCTLINE       2823 non-null   object \n",
      " 11  MSRP              2823 non-null   int64  \n",
      " 12  PRODUCTCODE       2823 non-null   object \n",
      " 13  CUSTOMERNAME      2823 non-null   object \n",
      " 14  PHONE             2823 non-null   object \n",
      " 15  ADDRESSLINE1      2823 non-null   object \n",
      " 16  ADDRESSLINE2      302 non-null    object \n",
      " 17  CITY              2823 non-null   object \n",
      " 18  STATE             1337 non-null   object \n",
      " 19  POSTALCODE        2747 non-null   object \n",
      " 20  COUNTRY           2823 non-null   object \n",
      " 21  TERRITORY         1749 non-null   object \n",
      " 22  CONTACTLASTNAME   2823 non-null   object \n",
      " 23  CONTACTFIRSTNAME  2823 non-null   object \n",
      " 24  DEALSIZE          2823 non-null   object \n",
      "dtypes: float64(2), int64(7), object(16)\n",
      "memory usage: 551.5+ KB\n"
     ]
    }
   ],
   "source": [
    "df.info()"
   ]
  },
  {
   "cell_type": "markdown",
   "id": "5438b93a-8011-4374-878a-ffc28cb96eb3",
   "metadata": {},
   "source": [
    "# checking the total null value"
   ]
  },
  {
   "cell_type": "code",
   "execution_count": 147,
   "id": "ff517d0e-8147-435c-852c-466b95d793b0",
   "metadata": {},
   "outputs": [
    {
     "data": {
      "text/plain": [
       "ORDERNUMBER            0\n",
       "QUANTITYORDERED        0\n",
       "PRICEEACH              0\n",
       "ORDERLINENUMBER        0\n",
       "SALES                  0\n",
       "ORDERDATE              0\n",
       "STATUS                 0\n",
       "QTR_ID                 0\n",
       "MONTH_ID               0\n",
       "YEAR_ID                0\n",
       "PRODUCTLINE            0\n",
       "MSRP                   0\n",
       "PRODUCTCODE            0\n",
       "CUSTOMERNAME           0\n",
       "PHONE                  0\n",
       "ADDRESSLINE1           0\n",
       "ADDRESSLINE2        2521\n",
       "CITY                   0\n",
       "STATE               1486\n",
       "POSTALCODE            76\n",
       "COUNTRY                0\n",
       "TERRITORY           1074\n",
       "CONTACTLASTNAME        0\n",
       "CONTACTFIRSTNAME       0\n",
       "DEALSIZE               0\n",
       "dtype: int64"
      ]
     },
     "execution_count": 147,
     "metadata": {},
     "output_type": "execute_result"
    }
   ],
   "source": [
    "df.isnull().sum()"
   ]
  },
  {
   "cell_type": "markdown",
   "id": "9a379465-e1f9-498c-9283-39d4d61cb58d",
   "metadata": {},
   "source": [
    "# checking the null value percentage"
   ]
  },
  {
   "cell_type": "code",
   "execution_count": 148,
   "id": "1a9c6cc8-b702-4ecf-b61a-d886c7f6740b",
   "metadata": {},
   "outputs": [
    {
     "data": {
      "text/plain": [
       "ORDERNUMBER          0.000000\n",
       "QUANTITYORDERED      0.000000\n",
       "PRICEEACH            0.000000\n",
       "ORDERLINENUMBER      0.000000\n",
       "SALES                0.000000\n",
       "ORDERDATE            0.000000\n",
       "STATUS               0.000000\n",
       "QTR_ID               0.000000\n",
       "MONTH_ID             0.000000\n",
       "YEAR_ID              0.000000\n",
       "PRODUCTLINE          0.000000\n",
       "MSRP                 0.000000\n",
       "PRODUCTCODE          0.000000\n",
       "CUSTOMERNAME         0.000000\n",
       "PHONE                0.000000\n",
       "ADDRESSLINE1         0.000000\n",
       "ADDRESSLINE2        89.302161\n",
       "CITY                 0.000000\n",
       "STATE               52.639036\n",
       "POSTALCODE           2.692171\n",
       "COUNTRY              0.000000\n",
       "TERRITORY           38.044633\n",
       "CONTACTLASTNAME      0.000000\n",
       "CONTACTFIRSTNAME     0.000000\n",
       "DEALSIZE             0.000000\n",
       "dtype: float64"
      ]
     },
     "execution_count": 148,
     "metadata": {},
     "output_type": "execute_result"
    }
   ],
   "source": [
    "df.isnull().sum()/len(df)*100"
   ]
  },
  {
   "cell_type": "code",
   "execution_count": 149,
   "id": "98982716-0da7-460a-8ca4-f093cdf2c472",
   "metadata": {},
   "outputs": [],
   "source": [
    "# ADDRESSLINE2 is not needed and it has 89% of null value so deleting the column "
   ]
  },
  {
   "cell_type": "code",
   "execution_count": 150,
   "id": "b284274b-8d5d-499a-b1d7-097ed3304724",
   "metadata": {},
   "outputs": [],
   "source": [
    "df.drop('ADDRESSLINE2', axis = 1 , inplace = True)"
   ]
  },
  {
   "cell_type": "code",
   "execution_count": 151,
   "id": "5d650648-4da6-49c7-a8a6-2c2d7ee92022",
   "metadata": {},
   "outputs": [
    {
     "data": {
      "text/html": [
       "<div>\n",
       "<style scoped>\n",
       "    .dataframe tbody tr th:only-of-type {\n",
       "        vertical-align: middle;\n",
       "    }\n",
       "\n",
       "    .dataframe tbody tr th {\n",
       "        vertical-align: top;\n",
       "    }\n",
       "\n",
       "    .dataframe thead th {\n",
       "        text-align: right;\n",
       "    }\n",
       "</style>\n",
       "<table border=\"1\" class=\"dataframe\">\n",
       "  <thead>\n",
       "    <tr style=\"text-align: right;\">\n",
       "      <th></th>\n",
       "      <th>ORDERNUMBER</th>\n",
       "      <th>QUANTITYORDERED</th>\n",
       "      <th>PRICEEACH</th>\n",
       "      <th>ORDERLINENUMBER</th>\n",
       "      <th>SALES</th>\n",
       "      <th>ORDERDATE</th>\n",
       "      <th>STATUS</th>\n",
       "      <th>QTR_ID</th>\n",
       "      <th>MONTH_ID</th>\n",
       "      <th>YEAR_ID</th>\n",
       "      <th>...</th>\n",
       "      <th>PHONE</th>\n",
       "      <th>ADDRESSLINE1</th>\n",
       "      <th>CITY</th>\n",
       "      <th>STATE</th>\n",
       "      <th>POSTALCODE</th>\n",
       "      <th>COUNTRY</th>\n",
       "      <th>TERRITORY</th>\n",
       "      <th>CONTACTLASTNAME</th>\n",
       "      <th>CONTACTFIRSTNAME</th>\n",
       "      <th>DEALSIZE</th>\n",
       "    </tr>\n",
       "  </thead>\n",
       "  <tbody>\n",
       "    <tr>\n",
       "      <th>0</th>\n",
       "      <td>10107</td>\n",
       "      <td>30</td>\n",
       "      <td>95.70</td>\n",
       "      <td>2</td>\n",
       "      <td>2871.0</td>\n",
       "      <td>2/24/2003 0:00</td>\n",
       "      <td>Shipped</td>\n",
       "      <td>1</td>\n",
       "      <td>2</td>\n",
       "      <td>2003</td>\n",
       "      <td>...</td>\n",
       "      <td>2125557818</td>\n",
       "      <td>897 Long Airport Avenue</td>\n",
       "      <td>NYC</td>\n",
       "      <td>NY</td>\n",
       "      <td>10022</td>\n",
       "      <td>USA</td>\n",
       "      <td>NaN</td>\n",
       "      <td>Yu</td>\n",
       "      <td>Kwai</td>\n",
       "      <td>Small</td>\n",
       "    </tr>\n",
       "    <tr>\n",
       "      <th>1</th>\n",
       "      <td>10121</td>\n",
       "      <td>34</td>\n",
       "      <td>81.35</td>\n",
       "      <td>5</td>\n",
       "      <td>2765.9</td>\n",
       "      <td>05-07-2003 00:00</td>\n",
       "      <td>Shipped</td>\n",
       "      <td>2</td>\n",
       "      <td>5</td>\n",
       "      <td>2003</td>\n",
       "      <td>...</td>\n",
       "      <td>26.47.1555</td>\n",
       "      <td>59 rue de l'Abbaye</td>\n",
       "      <td>Reims</td>\n",
       "      <td>NaN</td>\n",
       "      <td>51100</td>\n",
       "      <td>France</td>\n",
       "      <td>EMEA</td>\n",
       "      <td>Henriot</td>\n",
       "      <td>Paul</td>\n",
       "      <td>Small</td>\n",
       "    </tr>\n",
       "  </tbody>\n",
       "</table>\n",
       "<p>2 rows × 24 columns</p>\n",
       "</div>"
      ],
      "text/plain": [
       "   ORDERNUMBER  QUANTITYORDERED  PRICEEACH  ORDERLINENUMBER   SALES  \\\n",
       "0        10107               30      95.70                2  2871.0   \n",
       "1        10121               34      81.35                5  2765.9   \n",
       "\n",
       "          ORDERDATE   STATUS  QTR_ID  MONTH_ID  YEAR_ID  ...       PHONE  \\\n",
       "0    2/24/2003 0:00  Shipped       1         2     2003  ...  2125557818   \n",
       "1  05-07-2003 00:00  Shipped       2         5     2003  ...  26.47.1555   \n",
       "\n",
       "              ADDRESSLINE1   CITY STATE POSTALCODE COUNTRY TERRITORY  \\\n",
       "0  897 Long Airport Avenue    NYC    NY      10022     USA       NaN   \n",
       "1       59 rue de l'Abbaye  Reims   NaN      51100  France      EMEA   \n",
       "\n",
       "  CONTACTLASTNAME CONTACTFIRSTNAME DEALSIZE  \n",
       "0              Yu             Kwai    Small  \n",
       "1         Henriot             Paul    Small  \n",
       "\n",
       "[2 rows x 24 columns]"
      ]
     },
     "execution_count": 151,
     "metadata": {},
     "output_type": "execute_result"
    }
   ],
   "source": [
    "df.head(2) #checking the data if column is deleted"
   ]
  },
  {
   "cell_type": "code",
   "execution_count": 152,
   "id": "33447140-b085-473f-9762-79199460e028",
   "metadata": {},
   "outputs": [],
   "source": [
    "df['POSTALCODE'] = df['POSTALCODE'].fillna(0) # filling the 0 in postal code "
   ]
  },
  {
   "cell_type": "code",
   "execution_count": 153,
   "id": "31623429-c606-466a-8531-acb7be776382",
   "metadata": {},
   "outputs": [],
   "source": [
    "df['STATE'] = df['STATE'].fillna('not avilable')"
   ]
  },
  {
   "cell_type": "code",
   "execution_count": 154,
   "id": "6b83eacc-b849-452f-8e8d-249a0d644fc8",
   "metadata": {},
   "outputs": [],
   "source": [
    "df['TERRITORY'] = df['TERRITORY'].fillna('unavilable')"
   ]
  },
  {
   "cell_type": "code",
   "execution_count": 155,
   "id": "29665f77-f288-4603-a5b0-87707011da6a",
   "metadata": {},
   "outputs": [
    {
     "data": {
      "text/plain": [
       "ORDERNUMBER         0\n",
       "QUANTITYORDERED     0\n",
       "PRICEEACH           0\n",
       "ORDERLINENUMBER     0\n",
       "SALES               0\n",
       "ORDERDATE           0\n",
       "STATUS              0\n",
       "QTR_ID              0\n",
       "MONTH_ID            0\n",
       "YEAR_ID             0\n",
       "PRODUCTLINE         0\n",
       "MSRP                0\n",
       "PRODUCTCODE         0\n",
       "CUSTOMERNAME        0\n",
       "PHONE               0\n",
       "ADDRESSLINE1        0\n",
       "CITY                0\n",
       "STATE               0\n",
       "POSTALCODE          0\n",
       "COUNTRY             0\n",
       "TERRITORY           0\n",
       "CONTACTLASTNAME     0\n",
       "CONTACTFIRSTNAME    0\n",
       "DEALSIZE            0\n",
       "dtype: int64"
      ]
     },
     "execution_count": 155,
     "metadata": {},
     "output_type": "execute_result"
    }
   ],
   "source": [
    "df.isnull().sum() # all null value is filled with something"
   ]
  },
  {
   "cell_type": "code",
   "execution_count": 156,
   "id": "b88f585b-f665-4ba5-8332-b6832edfc2a0",
   "metadata": {},
   "outputs": [
    {
     "data": {
      "text/html": [
       "<div>\n",
       "<style scoped>\n",
       "    .dataframe tbody tr th:only-of-type {\n",
       "        vertical-align: middle;\n",
       "    }\n",
       "\n",
       "    .dataframe tbody tr th {\n",
       "        vertical-align: top;\n",
       "    }\n",
       "\n",
       "    .dataframe thead th {\n",
       "        text-align: right;\n",
       "    }\n",
       "</style>\n",
       "<table border=\"1\" class=\"dataframe\">\n",
       "  <thead>\n",
       "    <tr style=\"text-align: right;\">\n",
       "      <th></th>\n",
       "      <th>ORDERNUMBER</th>\n",
       "      <th>QUANTITYORDERED</th>\n",
       "      <th>PRICEEACH</th>\n",
       "      <th>ORDERLINENUMBER</th>\n",
       "      <th>SALES</th>\n",
       "      <th>ORDERDATE</th>\n",
       "      <th>STATUS</th>\n",
       "      <th>QTR_ID</th>\n",
       "      <th>MONTH_ID</th>\n",
       "      <th>YEAR_ID</th>\n",
       "      <th>...</th>\n",
       "      <th>PHONE</th>\n",
       "      <th>ADDRESSLINE1</th>\n",
       "      <th>CITY</th>\n",
       "      <th>STATE</th>\n",
       "      <th>POSTALCODE</th>\n",
       "      <th>COUNTRY</th>\n",
       "      <th>TERRITORY</th>\n",
       "      <th>CONTACTLASTNAME</th>\n",
       "      <th>CONTACTFIRSTNAME</th>\n",
       "      <th>DEALSIZE</th>\n",
       "    </tr>\n",
       "  </thead>\n",
       "  <tbody>\n",
       "  </tbody>\n",
       "</table>\n",
       "<p>0 rows × 24 columns</p>\n",
       "</div>"
      ],
      "text/plain": [
       "Empty DataFrame\n",
       "Columns: [ORDERNUMBER, QUANTITYORDERED, PRICEEACH, ORDERLINENUMBER, SALES, ORDERDATE, STATUS, QTR_ID, MONTH_ID, YEAR_ID, PRODUCTLINE, MSRP, PRODUCTCODE, CUSTOMERNAME, PHONE, ADDRESSLINE1, CITY, STATE, POSTALCODE, COUNTRY, TERRITORY, CONTACTLASTNAME, CONTACTFIRSTNAME, DEALSIZE]\n",
       "Index: []\n",
       "\n",
       "[0 rows x 24 columns]"
      ]
     },
     "execution_count": 156,
     "metadata": {},
     "output_type": "execute_result"
    }
   ],
   "source": [
    "df[df.duplicated] # checking duplicates there is not duplicate so no need to delete the duplicate"
   ]
  },
  {
   "cell_type": "code",
   "execution_count": 157,
   "id": "3c2e10c6-bede-41d1-bb5d-3e910818fe5c",
   "metadata": {},
   "outputs": [
    {
     "data": {
      "text/plain": [
       "ORDERNUMBER           int64\n",
       "QUANTITYORDERED       int64\n",
       "PRICEEACH           float64\n",
       "ORDERLINENUMBER       int64\n",
       "SALES               float64\n",
       "ORDERDATE            object\n",
       "STATUS               object\n",
       "QTR_ID                int64\n",
       "MONTH_ID              int64\n",
       "YEAR_ID               int64\n",
       "PRODUCTLINE          object\n",
       "MSRP                  int64\n",
       "PRODUCTCODE          object\n",
       "CUSTOMERNAME         object\n",
       "PHONE                object\n",
       "ADDRESSLINE1         object\n",
       "CITY                 object\n",
       "STATE                object\n",
       "POSTALCODE           object\n",
       "COUNTRY              object\n",
       "TERRITORY            object\n",
       "CONTACTLASTNAME      object\n",
       "CONTACTFIRSTNAME     object\n",
       "DEALSIZE             object\n",
       "dtype: object"
      ]
     },
     "execution_count": 157,
     "metadata": {},
     "output_type": "execute_result"
    }
   ],
   "source": [
    "df.dtypes"
   ]
  },
  {
   "cell_type": "code",
   "execution_count": 158,
   "id": "995b7db6-921d-4a1c-91b1-b651e401ae83",
   "metadata": {},
   "outputs": [
    {
     "data": {
      "text/plain": [
       "0         2/24/2003 0:00\n",
       "1       05-07-2003 00:00\n",
       "2       07-01-2003 00:00\n",
       "3         8/25/2003 0:00\n",
       "4       10-10-2003 00:00\n",
       "              ...       \n",
       "2818    12-02-2004 00:00\n",
       "2819      1/31/2005 0:00\n",
       "2820    03-01-2005 00:00\n",
       "2821      3/28/2005 0:00\n",
       "2822    05-06-2005 00:00\n",
       "Name: ORDERDATE, Length: 2823, dtype: object"
      ]
     },
     "execution_count": 158,
     "metadata": {},
     "output_type": "execute_result"
    }
   ],
   "source": [
    "df['ORDERDATE']"
   ]
  },
  {
   "cell_type": "code",
   "execution_count": 159,
   "id": "c550b285-25cf-4f61-93d0-42d317006469",
   "metadata": {},
   "outputs": [],
   "source": [
    "df['full_name'] = df['CONTACTFIRSTNAME'] + ' ' + df['CONTACTLASTNAME']\n"
   ]
  },
  {
   "cell_type": "code",
   "execution_count": 160,
   "id": "b30aae88-3c15-453b-87ed-d89cd05c5abd",
   "metadata": {},
   "outputs": [
    {
     "data": {
      "text/html": [
       "<div>\n",
       "<style scoped>\n",
       "    .dataframe tbody tr th:only-of-type {\n",
       "        vertical-align: middle;\n",
       "    }\n",
       "\n",
       "    .dataframe tbody tr th {\n",
       "        vertical-align: top;\n",
       "    }\n",
       "\n",
       "    .dataframe thead th {\n",
       "        text-align: right;\n",
       "    }\n",
       "</style>\n",
       "<table border=\"1\" class=\"dataframe\">\n",
       "  <thead>\n",
       "    <tr style=\"text-align: right;\">\n",
       "      <th></th>\n",
       "      <th>ORDERNUMBER</th>\n",
       "      <th>QUANTITYORDERED</th>\n",
       "      <th>PRICEEACH</th>\n",
       "      <th>ORDERLINENUMBER</th>\n",
       "      <th>SALES</th>\n",
       "      <th>ORDERDATE</th>\n",
       "      <th>STATUS</th>\n",
       "      <th>QTR_ID</th>\n",
       "      <th>MONTH_ID</th>\n",
       "      <th>YEAR_ID</th>\n",
       "      <th>...</th>\n",
       "      <th>ADDRESSLINE1</th>\n",
       "      <th>CITY</th>\n",
       "      <th>STATE</th>\n",
       "      <th>POSTALCODE</th>\n",
       "      <th>COUNTRY</th>\n",
       "      <th>TERRITORY</th>\n",
       "      <th>CONTACTLASTNAME</th>\n",
       "      <th>CONTACTFIRSTNAME</th>\n",
       "      <th>DEALSIZE</th>\n",
       "      <th>full_name</th>\n",
       "    </tr>\n",
       "  </thead>\n",
       "  <tbody>\n",
       "    <tr>\n",
       "      <th>0</th>\n",
       "      <td>10107</td>\n",
       "      <td>30</td>\n",
       "      <td>95.70</td>\n",
       "      <td>2</td>\n",
       "      <td>2871.00</td>\n",
       "      <td>2/24/2003 0:00</td>\n",
       "      <td>Shipped</td>\n",
       "      <td>1</td>\n",
       "      <td>2</td>\n",
       "      <td>2003</td>\n",
       "      <td>...</td>\n",
       "      <td>897 Long Airport Avenue</td>\n",
       "      <td>NYC</td>\n",
       "      <td>NY</td>\n",
       "      <td>10022</td>\n",
       "      <td>USA</td>\n",
       "      <td>unavilable</td>\n",
       "      <td>Yu</td>\n",
       "      <td>Kwai</td>\n",
       "      <td>Small</td>\n",
       "      <td>Kwai Yu</td>\n",
       "    </tr>\n",
       "    <tr>\n",
       "      <th>1</th>\n",
       "      <td>10121</td>\n",
       "      <td>34</td>\n",
       "      <td>81.35</td>\n",
       "      <td>5</td>\n",
       "      <td>2765.90</td>\n",
       "      <td>05-07-2003 00:00</td>\n",
       "      <td>Shipped</td>\n",
       "      <td>2</td>\n",
       "      <td>5</td>\n",
       "      <td>2003</td>\n",
       "      <td>...</td>\n",
       "      <td>59 rue de l'Abbaye</td>\n",
       "      <td>Reims</td>\n",
       "      <td>not avilable</td>\n",
       "      <td>51100</td>\n",
       "      <td>France</td>\n",
       "      <td>EMEA</td>\n",
       "      <td>Henriot</td>\n",
       "      <td>Paul</td>\n",
       "      <td>Small</td>\n",
       "      <td>Paul Henriot</td>\n",
       "    </tr>\n",
       "    <tr>\n",
       "      <th>2</th>\n",
       "      <td>10134</td>\n",
       "      <td>41</td>\n",
       "      <td>94.74</td>\n",
       "      <td>2</td>\n",
       "      <td>3884.34</td>\n",
       "      <td>07-01-2003 00:00</td>\n",
       "      <td>Shipped</td>\n",
       "      <td>3</td>\n",
       "      <td>7</td>\n",
       "      <td>2003</td>\n",
       "      <td>...</td>\n",
       "      <td>27 rue du Colonel Pierre Avia</td>\n",
       "      <td>Paris</td>\n",
       "      <td>not avilable</td>\n",
       "      <td>75508</td>\n",
       "      <td>France</td>\n",
       "      <td>EMEA</td>\n",
       "      <td>Da Cunha</td>\n",
       "      <td>Daniel</td>\n",
       "      <td>Medium</td>\n",
       "      <td>Daniel Da Cunha</td>\n",
       "    </tr>\n",
       "    <tr>\n",
       "      <th>3</th>\n",
       "      <td>10145</td>\n",
       "      <td>45</td>\n",
       "      <td>83.26</td>\n",
       "      <td>6</td>\n",
       "      <td>3746.70</td>\n",
       "      <td>8/25/2003 0:00</td>\n",
       "      <td>Shipped</td>\n",
       "      <td>3</td>\n",
       "      <td>8</td>\n",
       "      <td>2003</td>\n",
       "      <td>...</td>\n",
       "      <td>78934 Hillside Dr.</td>\n",
       "      <td>Pasadena</td>\n",
       "      <td>CA</td>\n",
       "      <td>90003</td>\n",
       "      <td>USA</td>\n",
       "      <td>unavilable</td>\n",
       "      <td>Young</td>\n",
       "      <td>Julie</td>\n",
       "      <td>Medium</td>\n",
       "      <td>Julie Young</td>\n",
       "    </tr>\n",
       "    <tr>\n",
       "      <th>4</th>\n",
       "      <td>10159</td>\n",
       "      <td>49</td>\n",
       "      <td>100.00</td>\n",
       "      <td>14</td>\n",
       "      <td>5205.27</td>\n",
       "      <td>10-10-2003 00:00</td>\n",
       "      <td>Shipped</td>\n",
       "      <td>4</td>\n",
       "      <td>10</td>\n",
       "      <td>2003</td>\n",
       "      <td>...</td>\n",
       "      <td>7734 Strong St.</td>\n",
       "      <td>San Francisco</td>\n",
       "      <td>CA</td>\n",
       "      <td>0</td>\n",
       "      <td>USA</td>\n",
       "      <td>unavilable</td>\n",
       "      <td>Brown</td>\n",
       "      <td>Julie</td>\n",
       "      <td>Medium</td>\n",
       "      <td>Julie Brown</td>\n",
       "    </tr>\n",
       "  </tbody>\n",
       "</table>\n",
       "<p>5 rows × 25 columns</p>\n",
       "</div>"
      ],
      "text/plain": [
       "   ORDERNUMBER  QUANTITYORDERED  PRICEEACH  ORDERLINENUMBER    SALES  \\\n",
       "0        10107               30      95.70                2  2871.00   \n",
       "1        10121               34      81.35                5  2765.90   \n",
       "2        10134               41      94.74                2  3884.34   \n",
       "3        10145               45      83.26                6  3746.70   \n",
       "4        10159               49     100.00               14  5205.27   \n",
       "\n",
       "          ORDERDATE   STATUS  QTR_ID  MONTH_ID  YEAR_ID  ...  \\\n",
       "0    2/24/2003 0:00  Shipped       1         2     2003  ...   \n",
       "1  05-07-2003 00:00  Shipped       2         5     2003  ...   \n",
       "2  07-01-2003 00:00  Shipped       3         7     2003  ...   \n",
       "3    8/25/2003 0:00  Shipped       3         8     2003  ...   \n",
       "4  10-10-2003 00:00  Shipped       4        10     2003  ...   \n",
       "\n",
       "                    ADDRESSLINE1           CITY         STATE POSTALCODE  \\\n",
       "0        897 Long Airport Avenue            NYC            NY      10022   \n",
       "1             59 rue de l'Abbaye          Reims  not avilable      51100   \n",
       "2  27 rue du Colonel Pierre Avia          Paris  not avilable      75508   \n",
       "3             78934 Hillside Dr.       Pasadena            CA      90003   \n",
       "4                7734 Strong St.  San Francisco            CA          0   \n",
       "\n",
       "  COUNTRY   TERRITORY CONTACTLASTNAME CONTACTFIRSTNAME DEALSIZE  \\\n",
       "0     USA  unavilable              Yu             Kwai    Small   \n",
       "1  France        EMEA         Henriot             Paul    Small   \n",
       "2  France        EMEA        Da Cunha           Daniel   Medium   \n",
       "3     USA  unavilable           Young            Julie   Medium   \n",
       "4     USA  unavilable           Brown            Julie   Medium   \n",
       "\n",
       "         full_name  \n",
       "0          Kwai Yu  \n",
       "1     Paul Henriot  \n",
       "2  Daniel Da Cunha  \n",
       "3      Julie Young  \n",
       "4      Julie Brown  \n",
       "\n",
       "[5 rows x 25 columns]"
      ]
     },
     "execution_count": 160,
     "metadata": {},
     "output_type": "execute_result"
    }
   ],
   "source": [
    "df.head()"
   ]
  },
  {
   "cell_type": "code",
   "execution_count": 161,
   "id": "6704129c-f2ca-44b1-8d18-d1a5b952ac01",
   "metadata": {},
   "outputs": [],
   "source": [
    "df.drop(['CONTACTLASTNAME', 'CONTACTFIRSTNAME'], axis = 1, inplace  = True)"
   ]
  },
  {
   "cell_type": "code",
   "execution_count": 162,
   "id": "6b603d09-fc1f-44c3-88e8-f5dfe5b5f213",
   "metadata": {},
   "outputs": [
    {
     "data": {
      "text/html": [
       "<div>\n",
       "<style scoped>\n",
       "    .dataframe tbody tr th:only-of-type {\n",
       "        vertical-align: middle;\n",
       "    }\n",
       "\n",
       "    .dataframe tbody tr th {\n",
       "        vertical-align: top;\n",
       "    }\n",
       "\n",
       "    .dataframe thead th {\n",
       "        text-align: right;\n",
       "    }\n",
       "</style>\n",
       "<table border=\"1\" class=\"dataframe\">\n",
       "  <thead>\n",
       "    <tr style=\"text-align: right;\">\n",
       "      <th></th>\n",
       "      <th>ORDERNUMBER</th>\n",
       "      <th>QUANTITYORDERED</th>\n",
       "      <th>PRICEEACH</th>\n",
       "      <th>ORDERLINENUMBER</th>\n",
       "      <th>SALES</th>\n",
       "      <th>ORDERDATE</th>\n",
       "      <th>STATUS</th>\n",
       "      <th>QTR_ID</th>\n",
       "      <th>MONTH_ID</th>\n",
       "      <th>YEAR_ID</th>\n",
       "      <th>...</th>\n",
       "      <th>CUSTOMERNAME</th>\n",
       "      <th>PHONE</th>\n",
       "      <th>ADDRESSLINE1</th>\n",
       "      <th>CITY</th>\n",
       "      <th>STATE</th>\n",
       "      <th>POSTALCODE</th>\n",
       "      <th>COUNTRY</th>\n",
       "      <th>TERRITORY</th>\n",
       "      <th>DEALSIZE</th>\n",
       "      <th>full_name</th>\n",
       "    </tr>\n",
       "  </thead>\n",
       "  <tbody>\n",
       "    <tr>\n",
       "      <th>0</th>\n",
       "      <td>10107</td>\n",
       "      <td>30</td>\n",
       "      <td>95.70</td>\n",
       "      <td>2</td>\n",
       "      <td>2871.0</td>\n",
       "      <td>2/24/2003 0:00</td>\n",
       "      <td>Shipped</td>\n",
       "      <td>1</td>\n",
       "      <td>2</td>\n",
       "      <td>2003</td>\n",
       "      <td>...</td>\n",
       "      <td>Land of Toys Inc.</td>\n",
       "      <td>2125557818</td>\n",
       "      <td>897 Long Airport Avenue</td>\n",
       "      <td>NYC</td>\n",
       "      <td>NY</td>\n",
       "      <td>10022</td>\n",
       "      <td>USA</td>\n",
       "      <td>unavilable</td>\n",
       "      <td>Small</td>\n",
       "      <td>Kwai Yu</td>\n",
       "    </tr>\n",
       "    <tr>\n",
       "      <th>1</th>\n",
       "      <td>10121</td>\n",
       "      <td>34</td>\n",
       "      <td>81.35</td>\n",
       "      <td>5</td>\n",
       "      <td>2765.9</td>\n",
       "      <td>05-07-2003 00:00</td>\n",
       "      <td>Shipped</td>\n",
       "      <td>2</td>\n",
       "      <td>5</td>\n",
       "      <td>2003</td>\n",
       "      <td>...</td>\n",
       "      <td>Reims Collectables</td>\n",
       "      <td>26.47.1555</td>\n",
       "      <td>59 rue de l'Abbaye</td>\n",
       "      <td>Reims</td>\n",
       "      <td>not avilable</td>\n",
       "      <td>51100</td>\n",
       "      <td>France</td>\n",
       "      <td>EMEA</td>\n",
       "      <td>Small</td>\n",
       "      <td>Paul Henriot</td>\n",
       "    </tr>\n",
       "  </tbody>\n",
       "</table>\n",
       "<p>2 rows × 23 columns</p>\n",
       "</div>"
      ],
      "text/plain": [
       "   ORDERNUMBER  QUANTITYORDERED  PRICEEACH  ORDERLINENUMBER   SALES  \\\n",
       "0        10107               30      95.70                2  2871.0   \n",
       "1        10121               34      81.35                5  2765.9   \n",
       "\n",
       "          ORDERDATE   STATUS  QTR_ID  MONTH_ID  YEAR_ID  ...  \\\n",
       "0    2/24/2003 0:00  Shipped       1         2     2003  ...   \n",
       "1  05-07-2003 00:00  Shipped       2         5     2003  ...   \n",
       "\n",
       "         CUSTOMERNAME       PHONE             ADDRESSLINE1   CITY  \\\n",
       "0   Land of Toys Inc.  2125557818  897 Long Airport Avenue    NYC   \n",
       "1  Reims Collectables  26.47.1555       59 rue de l'Abbaye  Reims   \n",
       "\n",
       "          STATE POSTALCODE COUNTRY   TERRITORY DEALSIZE     full_name  \n",
       "0            NY      10022     USA  unavilable    Small       Kwai Yu  \n",
       "1  not avilable      51100  France        EMEA    Small  Paul Henriot  \n",
       "\n",
       "[2 rows x 23 columns]"
      ]
     },
     "execution_count": 162,
     "metadata": {},
     "output_type": "execute_result"
    }
   ],
   "source": [
    "df.head(2)"
   ]
  },
  {
   "cell_type": "markdown",
   "id": "8f60292a-b287-4387-badf-d7f86a49335e",
   "metadata": {},
   "source": [
    "# There is inconsistency in date format so changing the formate and also correcting the data type of date"
   ]
  },
  {
   "cell_type": "code",
   "execution_count": 163,
   "id": "0f48aa89-1f86-4e34-9816-f27e30a1ac7c",
   "metadata": {},
   "outputs": [
    {
     "data": {
      "text/plain": [
       "0         2/24/2003 0:00\n",
       "1       05-07-2003 00:00\n",
       "2       07-01-2003 00:00\n",
       "3         8/25/2003 0:00\n",
       "4       10-10-2003 00:00\n",
       "              ...       \n",
       "2818    12-02-2004 00:00\n",
       "2819      1/31/2005 0:00\n",
       "2820    03-01-2005 00:00\n",
       "2821      3/28/2005 0:00\n",
       "2822    05-06-2005 00:00\n",
       "Name: ORDERDATE, Length: 2823, dtype: object"
      ]
     },
     "execution_count": 163,
     "metadata": {},
     "output_type": "execute_result"
    }
   ],
   "source": [
    "df['ORDERDATE']"
   ]
  },
  {
   "cell_type": "code",
   "execution_count": 164,
   "id": "2f536fc9-d166-40f8-b654-d6577cb2866e",
   "metadata": {},
   "outputs": [],
   "source": [
    "df['ORDERDATE'] = pd.to_datetime(df['ORDERDATE'], format='mixed', dayfirst=True)\n"
   ]
  },
  {
   "cell_type": "code",
   "execution_count": 165,
   "id": "baa75fb9-c9ac-44f6-9235-f8f2b9e637eb",
   "metadata": {},
   "outputs": [
    {
     "data": {
      "text/plain": [
       "0      2003-02-24\n",
       "1      2003-07-05\n",
       "2      2003-01-07\n",
       "3      2003-08-25\n",
       "4      2003-10-10\n",
       "          ...    \n",
       "2818   2004-02-12\n",
       "2819   2005-01-31\n",
       "2820   2005-01-03\n",
       "2821   2005-03-28\n",
       "2822   2005-06-05\n",
       "Name: ORDERDATE, Length: 2823, dtype: datetime64[ns]"
      ]
     },
     "execution_count": 165,
     "metadata": {},
     "output_type": "execute_result"
    }
   ],
   "source": [
    "df['ORDERDATE']"
   ]
  },
  {
   "cell_type": "code",
   "execution_count": 166,
   "id": "9bcf2ccf-fb3b-43e9-ab4b-4581e06a90d6",
   "metadata": {},
   "outputs": [
    {
     "data": {
      "text/html": [
       "<div>\n",
       "<style scoped>\n",
       "    .dataframe tbody tr th:only-of-type {\n",
       "        vertical-align: middle;\n",
       "    }\n",
       "\n",
       "    .dataframe tbody tr th {\n",
       "        vertical-align: top;\n",
       "    }\n",
       "\n",
       "    .dataframe thead th {\n",
       "        text-align: right;\n",
       "    }\n",
       "</style>\n",
       "<table border=\"1\" class=\"dataframe\">\n",
       "  <thead>\n",
       "    <tr style=\"text-align: right;\">\n",
       "      <th></th>\n",
       "      <th>ORDERNUMBER</th>\n",
       "      <th>QUANTITYORDERED</th>\n",
       "      <th>PRICEEACH</th>\n",
       "      <th>ORDERLINENUMBER</th>\n",
       "      <th>SALES</th>\n",
       "      <th>ORDERDATE</th>\n",
       "      <th>STATUS</th>\n",
       "      <th>QTR_ID</th>\n",
       "      <th>MONTH_ID</th>\n",
       "      <th>YEAR_ID</th>\n",
       "      <th>...</th>\n",
       "      <th>CUSTOMERNAME</th>\n",
       "      <th>PHONE</th>\n",
       "      <th>ADDRESSLINE1</th>\n",
       "      <th>CITY</th>\n",
       "      <th>STATE</th>\n",
       "      <th>POSTALCODE</th>\n",
       "      <th>COUNTRY</th>\n",
       "      <th>TERRITORY</th>\n",
       "      <th>DEALSIZE</th>\n",
       "      <th>full_name</th>\n",
       "    </tr>\n",
       "  </thead>\n",
       "  <tbody>\n",
       "    <tr>\n",
       "      <th>0</th>\n",
       "      <td>10107</td>\n",
       "      <td>30</td>\n",
       "      <td>95.70</td>\n",
       "      <td>2</td>\n",
       "      <td>2871.00</td>\n",
       "      <td>2003-02-24</td>\n",
       "      <td>Shipped</td>\n",
       "      <td>1</td>\n",
       "      <td>2</td>\n",
       "      <td>2003</td>\n",
       "      <td>...</td>\n",
       "      <td>Land of Toys Inc.</td>\n",
       "      <td>2125557818</td>\n",
       "      <td>897 Long Airport Avenue</td>\n",
       "      <td>NYC</td>\n",
       "      <td>NY</td>\n",
       "      <td>10022</td>\n",
       "      <td>USA</td>\n",
       "      <td>unavilable</td>\n",
       "      <td>Small</td>\n",
       "      <td>Kwai Yu</td>\n",
       "    </tr>\n",
       "    <tr>\n",
       "      <th>1</th>\n",
       "      <td>10121</td>\n",
       "      <td>34</td>\n",
       "      <td>81.35</td>\n",
       "      <td>5</td>\n",
       "      <td>2765.90</td>\n",
       "      <td>2003-07-05</td>\n",
       "      <td>Shipped</td>\n",
       "      <td>2</td>\n",
       "      <td>5</td>\n",
       "      <td>2003</td>\n",
       "      <td>...</td>\n",
       "      <td>Reims Collectables</td>\n",
       "      <td>26.47.1555</td>\n",
       "      <td>59 rue de l'Abbaye</td>\n",
       "      <td>Reims</td>\n",
       "      <td>not avilable</td>\n",
       "      <td>51100</td>\n",
       "      <td>France</td>\n",
       "      <td>EMEA</td>\n",
       "      <td>Small</td>\n",
       "      <td>Paul Henriot</td>\n",
       "    </tr>\n",
       "    <tr>\n",
       "      <th>2</th>\n",
       "      <td>10134</td>\n",
       "      <td>41</td>\n",
       "      <td>94.74</td>\n",
       "      <td>2</td>\n",
       "      <td>3884.34</td>\n",
       "      <td>2003-01-07</td>\n",
       "      <td>Shipped</td>\n",
       "      <td>3</td>\n",
       "      <td>7</td>\n",
       "      <td>2003</td>\n",
       "      <td>...</td>\n",
       "      <td>Lyon Souveniers</td>\n",
       "      <td>+33 1 46 62 7555</td>\n",
       "      <td>27 rue du Colonel Pierre Avia</td>\n",
       "      <td>Paris</td>\n",
       "      <td>not avilable</td>\n",
       "      <td>75508</td>\n",
       "      <td>France</td>\n",
       "      <td>EMEA</td>\n",
       "      <td>Medium</td>\n",
       "      <td>Daniel Da Cunha</td>\n",
       "    </tr>\n",
       "    <tr>\n",
       "      <th>3</th>\n",
       "      <td>10145</td>\n",
       "      <td>45</td>\n",
       "      <td>83.26</td>\n",
       "      <td>6</td>\n",
       "      <td>3746.70</td>\n",
       "      <td>2003-08-25</td>\n",
       "      <td>Shipped</td>\n",
       "      <td>3</td>\n",
       "      <td>8</td>\n",
       "      <td>2003</td>\n",
       "      <td>...</td>\n",
       "      <td>Toys4GrownUps.com</td>\n",
       "      <td>6265557265</td>\n",
       "      <td>78934 Hillside Dr.</td>\n",
       "      <td>Pasadena</td>\n",
       "      <td>CA</td>\n",
       "      <td>90003</td>\n",
       "      <td>USA</td>\n",
       "      <td>unavilable</td>\n",
       "      <td>Medium</td>\n",
       "      <td>Julie Young</td>\n",
       "    </tr>\n",
       "    <tr>\n",
       "      <th>4</th>\n",
       "      <td>10159</td>\n",
       "      <td>49</td>\n",
       "      <td>100.00</td>\n",
       "      <td>14</td>\n",
       "      <td>5205.27</td>\n",
       "      <td>2003-10-10</td>\n",
       "      <td>Shipped</td>\n",
       "      <td>4</td>\n",
       "      <td>10</td>\n",
       "      <td>2003</td>\n",
       "      <td>...</td>\n",
       "      <td>Corporate Gift Ideas Co.</td>\n",
       "      <td>6505551386</td>\n",
       "      <td>7734 Strong St.</td>\n",
       "      <td>San Francisco</td>\n",
       "      <td>CA</td>\n",
       "      <td>0</td>\n",
       "      <td>USA</td>\n",
       "      <td>unavilable</td>\n",
       "      <td>Medium</td>\n",
       "      <td>Julie Brown</td>\n",
       "    </tr>\n",
       "  </tbody>\n",
       "</table>\n",
       "<p>5 rows × 23 columns</p>\n",
       "</div>"
      ],
      "text/plain": [
       "   ORDERNUMBER  QUANTITYORDERED  PRICEEACH  ORDERLINENUMBER    SALES  \\\n",
       "0        10107               30      95.70                2  2871.00   \n",
       "1        10121               34      81.35                5  2765.90   \n",
       "2        10134               41      94.74                2  3884.34   \n",
       "3        10145               45      83.26                6  3746.70   \n",
       "4        10159               49     100.00               14  5205.27   \n",
       "\n",
       "   ORDERDATE   STATUS  QTR_ID  MONTH_ID  YEAR_ID  ...  \\\n",
       "0 2003-02-24  Shipped       1         2     2003  ...   \n",
       "1 2003-07-05  Shipped       2         5     2003  ...   \n",
       "2 2003-01-07  Shipped       3         7     2003  ...   \n",
       "3 2003-08-25  Shipped       3         8     2003  ...   \n",
       "4 2003-10-10  Shipped       4        10     2003  ...   \n",
       "\n",
       "               CUSTOMERNAME             PHONE                   ADDRESSLINE1  \\\n",
       "0         Land of Toys Inc.        2125557818        897 Long Airport Avenue   \n",
       "1        Reims Collectables        26.47.1555             59 rue de l'Abbaye   \n",
       "2           Lyon Souveniers  +33 1 46 62 7555  27 rue du Colonel Pierre Avia   \n",
       "3         Toys4GrownUps.com        6265557265             78934 Hillside Dr.   \n",
       "4  Corporate Gift Ideas Co.        6505551386                7734 Strong St.   \n",
       "\n",
       "            CITY         STATE POSTALCODE COUNTRY   TERRITORY DEALSIZE  \\\n",
       "0            NYC            NY      10022     USA  unavilable    Small   \n",
       "1          Reims  not avilable      51100  France        EMEA    Small   \n",
       "2          Paris  not avilable      75508  France        EMEA   Medium   \n",
       "3       Pasadena            CA      90003     USA  unavilable   Medium   \n",
       "4  San Francisco            CA          0     USA  unavilable   Medium   \n",
       "\n",
       "         full_name  \n",
       "0          Kwai Yu  \n",
       "1     Paul Henriot  \n",
       "2  Daniel Da Cunha  \n",
       "3      Julie Young  \n",
       "4      Julie Brown  \n",
       "\n",
       "[5 rows x 23 columns]"
      ]
     },
     "execution_count": 166,
     "metadata": {},
     "output_type": "execute_result"
    }
   ],
   "source": [
    "df.head()"
   ]
  },
  {
   "cell_type": "code",
   "execution_count": 141,
   "id": "3080b83b-0f26-4f6e-85d6-1118e0f730a5",
   "metadata": {},
   "outputs": [],
   "source": [
    "#  checking the outlier in these 3 columns"
   ]
  },
  {
   "cell_type": "code",
   "execution_count": 111,
   "id": "79bd811e-87ed-4f99-a433-507cb0d188a2",
   "metadata": {},
   "outputs": [
    {
     "data": {
      "image/png": "[encoded data removed]",
      "text/plain": [
       "<Figure size 800x600 with 1 Axes>"
      ]
     },
     "metadata": {},
     "output_type": "display_data"
    }
   ],
   "source": [
    "columns = ['QUANTITYORDERED' , 'PRICEEACH', 'SALES']\n",
    "\n",
    "# Create boxplots for each column\n",
    "plt.figure(figsize=(8, 6))\n",
    "sns.boxplot(data=df[columns])\n",
    "plt.title(\"Boxplots for QUANTITYORDERED, PRICEEACH, and SALES\")\n",
    "plt.show()\n"
   ]
  },
  {
   "cell_type": "code",
   "execution_count": 168,
   "id": "a9491bbf-84a1-4c40-9579-112e863de2da",
   "metadata": {},
   "outputs": [
    {
     "name": "stdout",
     "output_type": "stream",
     "text": [
      "\n",
      "Outliers in column 'QUANTITYORDERED':\n",
      "      ORDERNUMBER  QUANTITYORDERED  PRICEEACH  ORDERLINENUMBER     SALES  \\\n",
      "418         10405               97      93.28                5   9048.16   \n",
      "598         10407               76     100.00                2  14082.80   \n",
      "1666        10412               70     100.00               10   8498.00   \n",
      "1714        10407               76      94.50                6   7182.00   \n",
      "1995        10405               76     100.00                3  11739.70   \n",
      "1996        10419               70     100.00                8   9240.00   \n",
      "2586        10401               85      88.75               10   7543.75   \n",
      "2689        10401               77      92.00                9   7084.00   \n",
      "\n",
      "      ORDERDATE   STATUS  QTR_ID  MONTH_ID  YEAR_ID  ...  \\\n",
      "418  2005-04-14  Shipped       2         4     2005  ...   \n",
      "598  2005-04-22  On Hold       2         4     2005  ...   \n",
      "1666 2005-03-05  Shipped       2         5     2005  ...   \n",
      "1714 2005-04-22  On Hold       2         4     2005  ...   \n",
      "1995 2005-04-14  Shipped       2         4     2005  ...   \n",
      "1996 2005-05-17  Shipped       2         5     2005  ...   \n",
      "2586 2005-03-04  On Hold       2         4     2005  ...   \n",
      "2689 2005-03-04  On Hold       2         4     2005  ...   \n",
      "\n",
      "                   CUSTOMERNAME           PHONE        ADDRESSLINE1  \\\n",
      "418                 Mini Caravy      88.60.1555    24, place Kluber   \n",
      "598   The Sharp Gifts Warehouse      4085553659      3086 Ingle Ln.   \n",
      "1666      Euro Shopping Channel  (91) 555 94 44  C/ Moralzarzal, 86   \n",
      "1714  The Sharp Gifts Warehouse      4085553659      3086 Ingle Ln.   \n",
      "1995                Mini Caravy      88.60.1555    24, place Kluber   \n",
      "1996      Salzburg Collectables       6562-9555         Geislweg 14   \n",
      "2586    Tekni Collectables Inc.      2015559350       7476 Moss Rd.   \n",
      "2689    Tekni Collectables Inc.      2015559350       7476 Moss Rd.   \n",
      "\n",
      "            CITY         STATE POSTALCODE  COUNTRY   TERRITORY DEALSIZE  \\\n",
      "418   Strasbourg  not avilable      67000   France        EMEA    Large   \n",
      "598     San Jose            CA      94217      USA  unavilable    Large   \n",
      "1666      Madrid  not avilable      28034    Spain        EMEA    Large   \n",
      "1714    San Jose            CA      94217      USA  unavilable    Large   \n",
      "1995  Strasbourg  not avilable      67000   France        EMEA    Large   \n",
      "1996    Salzburg  not avilable       5020  Austria        EMEA    Large   \n",
      "2586      Newark            NJ      94019      USA  unavilable    Large   \n",
      "2689      Newark            NJ      94019      USA  unavilable    Large   \n",
      "\n",
      "               full_name  \n",
      "418   Frederique Citeaux  \n",
      "598            Sue Frick  \n",
      "1666        Diego Freyre  \n",
      "1714           Sue Frick  \n",
      "1995  Frederique Citeaux  \n",
      "1996         Georg Pipps  \n",
      "2586       William Brown  \n",
      "2689       William Brown  \n",
      "\n",
      "[8 rows x 23 columns]\n",
      "\n",
      "Outliers in column 'PRICEEACH':\n",
      "Empty DataFrame\n",
      "Columns: [ORDERNUMBER, QUANTITYORDERED, PRICEEACH, ORDERLINENUMBER, SALES, ORDERDATE, STATUS, QTR_ID, MONTH_ID, YEAR_ID, PRODUCTLINE, MSRP, PRODUCTCODE, CUSTOMERNAME, PHONE, ADDRESSLINE1, CITY, STATE, POSTALCODE, COUNTRY, TERRITORY, DEALSIZE, full_name]\n",
      "Index: []\n",
      "\n",
      "[0 rows x 23 columns]\n",
      "\n",
      "Outliers in column 'SALES':\n",
      "      ORDERNUMBER  QUANTITYORDERED  PRICEEACH  ORDERLINENUMBER     SALES  \\\n",
      "30          10150               45      100.0                8  10993.50   \n",
      "32          10174               34      100.0                4   8014.82   \n",
      "35          10206               47      100.0                6   9064.89   \n",
      "41          10280               34      100.0                2   8014.82   \n",
      "43          10304               47      100.0                6  10172.70   \n",
      "...           ...              ...        ...              ...       ...   \n",
      "2241        10325               38      100.0                3   8844.12   \n",
      "2295        10324               48      100.0                4   8209.44   \n",
      "2430        10395               45      100.0                3   8977.05   \n",
      "2505        10388               46      100.0                2  10066.60   \n",
      "2634        10336               46      100.0                2   9558.80   \n",
      "\n",
      "      ORDERDATE   STATUS  QTR_ID  MONTH_ID  YEAR_ID  ...  \\\n",
      "30   2003-09-19  Shipped       3         9     2003  ...   \n",
      "32   2003-06-11  Shipped       4        11     2003  ...   \n",
      "35   2003-05-12  Shipped       4        12     2003  ...   \n",
      "41   2004-08-17  Shipped       3         8     2004  ...   \n",
      "43   2004-11-10  Shipped       4        10     2004  ...   \n",
      "...         ...      ...     ...       ...      ...  ...   \n",
      "2241 2004-05-11  Shipped       4        11     2004  ...   \n",
      "2295 2004-05-11  Shipped       4        11     2004  ...   \n",
      "2430 2005-03-17  Shipped       1         3     2005  ...   \n",
      "2505 2005-03-03  Shipped       1         3     2005  ...   \n",
      "2634 2004-11-20  Shipped       4        11     2004  ...   \n",
      "\n",
      "                        CUSTOMERNAME             PHONE  \\\n",
      "30           Dragon Souveniers, Ltd.      +65 221 7555   \n",
      "32       Australian Gift Network, Co    61-7-3844-6555   \n",
      "35    Canadian Gift Exchange Network    (604) 555-3392   \n",
      "41                Amica Models & Co.       011-4988555   \n",
      "43                Auto Assoc. & Cie.        30.59.8555   \n",
      "...                              ...               ...   \n",
      "2241              Baane Mini Imports        07-98 9555   \n",
      "2295                 Vitachrome Inc.        2125551500   \n",
      "2430                 Lyon Souveniers  +33 1 46 62 7555   \n",
      "2505                FunGiftIdeas.com        5085552555   \n",
      "2634       La Corne D'abondance, Co.    (1) 42.34.2555   \n",
      "\n",
      "                              ADDRESSLINE1            CITY         STATE  \\\n",
      "30    Bronz Sok., Bronz Apt. 3/6 Tesvikiye       Singapore  not avilable   \n",
      "32                  31 Duncan St. West End  South Brisbane    Queensland   \n",
      "35                            1900 Oak St.       Vancouver            BC   \n",
      "41                     Via Monte Bianco 34          Torino  not avilable   \n",
      "43                  67, avenue de l'Europe      Versailles  not avilable   \n",
      "...                                    ...             ...           ...   \n",
      "2241                Erling Skakkes gate 78         Stavern  not avilable   \n",
      "2295                     2678 Kingston Rd.             NYC            NY   \n",
      "2430         27 rue du Colonel Pierre Avia           Paris  not avilable   \n",
      "2505                     1785 First Street     New Bedford            MA   \n",
      "2634               265, boulevard Charonne           Paris  not avilable   \n",
      "\n",
      "     POSTALCODE    COUNTRY   TERRITORY DEALSIZE         full_name  \n",
      "30        79903  Singapore       Japan    Large    Eric Natividad  \n",
      "32         4101  Australia        APAC    Large     Tony Calaghan  \n",
      "35      V3F 2K1     Canada  unavilable    Large   Yoshi Tannamuri  \n",
      "41        10100      Italy        EMEA    Large     Paolo Accorti  \n",
      "43        78000     France        EMEA    Large     Daniel Tonini  \n",
      "...         ...        ...         ...      ...               ...  \n",
      "2241       4110     Norway        EMEA    Large  Jonas Bergulfsen  \n",
      "2295      10022        USA  unavilable    Large     Michael Frick  \n",
      "2430      75508     France        EMEA    Large   Daniel Da Cunha  \n",
      "2505      50553        USA  unavilable    Large   Violeta Benitez  \n",
      "2634      75012     France        EMEA    Large    Marie Bertrand  \n",
      "\n",
      "[81 rows x 23 columns]\n"
     ]
    }
   ],
   "source": [
    "# checking the outlier data by using IQR\n",
    "\n",
    "columns = ['QUANTITYORDERED' , 'PRICEEACH', 'SALES']\n",
    "\n",
    "for col in columns:\n",
    "    Q1 = df[col].quantile(0.25)\n",
    "    Q3 = df[col].quantile(0.75)\n",
    "    IQR = Q3-Q1\n",
    "\n",
    "    lower_bound = Q1-1.5*IQR\n",
    "    upper_bound = Q3+1.5*IQR\n",
    "\n",
    "\n",
    "    outlier = df[(df[col] < lower_bound) | (df[col] > upper_bound)]\n",
    "    print(f\"\\nOutliers in column '{col}':\")\n",
    "    print(outlier)\n"
   ]
  },
  {
   "cell_type": "code",
   "execution_count": 170,
   "id": "9f858be5-05b4-40ca-9146-cb6c4f501350",
   "metadata": {},
   "outputs": [
    {
     "name": "stdout",
     "output_type": "stream",
     "text": [
      "Outliers replaced with median.\n"
     ]
    }
   ],
   "source": [
    "columns = ['QUANTITYORDERED', 'PRICEEACH', 'SALES']\n",
    "\n",
    "for col in columns:\n",
    "    Q1 = df[col].quantile(0.25)\n",
    "    Q3 = df[col].quantile(0.75)\n",
    "    IQR = Q3 - Q1\n",
    "\n",
    "    lower_bound = Q1 - 1.5 * IQR\n",
    "    upper_bound = Q3 + 1.5 * IQR\n",
    "\n",
    "    median_value = df[col].median()\n",
    "\n",
    "    # Find outliers\n",
    "    outliers = (df[col] < lower_bound) | (df[col] > upper_bound)\n",
    "\n",
    "    # Replace outliers with median\n",
    "    df.loc[outliers, col] = median_value\n",
    "\n",
    "print(\"Outliers replaced with median.\")\n"
   ]
  },
  {
   "cell_type": "code",
   "execution_count": 177,
   "id": "77a76ce2-fc4d-4a35-b30d-e0ce5ca01c7c",
   "metadata": {},
   "outputs": [
    {
     "data": {
      "text/html": [
       "<div>\n",
       "<style scoped>\n",
       "    .dataframe tbody tr th:only-of-type {\n",
       "        vertical-align: middle;\n",
       "    }\n",
       "\n",
       "    .dataframe tbody tr th {\n",
       "        vertical-align: top;\n",
       "    }\n",
       "\n",
       "    .dataframe thead th {\n",
       "        text-align: right;\n",
       "    }\n",
       "</style>\n",
       "<table border=\"1\" class=\"dataframe\">\n",
       "  <thead>\n",
       "    <tr style=\"text-align: right;\">\n",
       "      <th></th>\n",
       "      <th>ORDERNUMBER</th>\n",
       "      <th>QUANTITYORDERED</th>\n",
       "      <th>PRICEEACH</th>\n",
       "      <th>ORDERLINENUMBER</th>\n",
       "      <th>SALES</th>\n",
       "      <th>ORDERDATE</th>\n",
       "      <th>QTR_ID</th>\n",
       "      <th>MONTH_ID</th>\n",
       "      <th>YEAR_ID</th>\n",
       "      <th>MSRP</th>\n",
       "    </tr>\n",
       "  </thead>\n",
       "  <tbody>\n",
       "    <tr>\n",
       "      <th>count</th>\n",
       "      <td>2823.000000</td>\n",
       "      <td>2823.000000</td>\n",
       "      <td>2823.000000</td>\n",
       "      <td>2823.000000</td>\n",
       "      <td>2823.000000</td>\n",
       "      <td>2823</td>\n",
       "      <td>2823.000000</td>\n",
       "      <td>2823.000000</td>\n",
       "      <td>2823.00000</td>\n",
       "      <td>2823.000000</td>\n",
       "    </tr>\n",
       "    <tr>\n",
       "      <th>mean</th>\n",
       "      <td>10258.725115</td>\n",
       "      <td>34.969890</td>\n",
       "      <td>83.658544</td>\n",
       "      <td>6.466171</td>\n",
       "      <td>3382.093294</td>\n",
       "      <td>2004-04-25 07:13:04.272050944</td>\n",
       "      <td>2.717676</td>\n",
       "      <td>7.092455</td>\n",
       "      <td>2003.81509</td>\n",
       "      <td>100.715551</td>\n",
       "    </tr>\n",
       "    <tr>\n",
       "      <th>min</th>\n",
       "      <td>10100.000000</td>\n",
       "      <td>6.000000</td>\n",
       "      <td>26.880000</td>\n",
       "      <td>1.000000</td>\n",
       "      <td>482.130000</td>\n",
       "      <td>2003-01-04 00:00:00</td>\n",
       "      <td>1.000000</td>\n",
       "      <td>1.000000</td>\n",
       "      <td>2003.00000</td>\n",
       "      <td>33.000000</td>\n",
       "    </tr>\n",
       "    <tr>\n",
       "      <th>25%</th>\n",
       "      <td>10180.000000</td>\n",
       "      <td>27.000000</td>\n",
       "      <td>68.860000</td>\n",
       "      <td>3.000000</td>\n",
       "      <td>2203.430000</td>\n",
       "      <td>2003-10-22 00:00:00</td>\n",
       "      <td>2.000000</td>\n",
       "      <td>4.000000</td>\n",
       "      <td>2003.00000</td>\n",
       "      <td>68.000000</td>\n",
       "    </tr>\n",
       "    <tr>\n",
       "      <th>50%</th>\n",
       "      <td>10262.000000</td>\n",
       "      <td>35.000000</td>\n",
       "      <td>95.700000</td>\n",
       "      <td>6.000000</td>\n",
       "      <td>3184.800000</td>\n",
       "      <td>2004-05-05 00:00:00</td>\n",
       "      <td>3.000000</td>\n",
       "      <td>8.000000</td>\n",
       "      <td>2004.00000</td>\n",
       "      <td>99.000000</td>\n",
       "    </tr>\n",
       "    <tr>\n",
       "      <th>75%</th>\n",
       "      <td>10333.500000</td>\n",
       "      <td>43.000000</td>\n",
       "      <td>100.000000</td>\n",
       "      <td>9.000000</td>\n",
       "      <td>4300.410000</td>\n",
       "      <td>2004-11-15 00:00:00</td>\n",
       "      <td>4.000000</td>\n",
       "      <td>11.000000</td>\n",
       "      <td>2004.00000</td>\n",
       "      <td>124.000000</td>\n",
       "    </tr>\n",
       "    <tr>\n",
       "      <th>max</th>\n",
       "      <td>10425.000000</td>\n",
       "      <td>66.000000</td>\n",
       "      <td>100.000000</td>\n",
       "      <td>18.000000</td>\n",
       "      <td>7962.240000</td>\n",
       "      <td>2005-12-01 00:00:00</td>\n",
       "      <td>4.000000</td>\n",
       "      <td>12.000000</td>\n",
       "      <td>2005.00000</td>\n",
       "      <td>214.000000</td>\n",
       "    </tr>\n",
       "    <tr>\n",
       "      <th>std</th>\n",
       "      <td>92.085478</td>\n",
       "      <td>9.453839</td>\n",
       "      <td>20.174277</td>\n",
       "      <td>4.225841</td>\n",
       "      <td>1554.292834</td>\n",
       "      <td>NaN</td>\n",
       "      <td>1.203878</td>\n",
       "      <td>3.656633</td>\n",
       "      <td>0.69967</td>\n",
       "      <td>40.187912</td>\n",
       "    </tr>\n",
       "  </tbody>\n",
       "</table>\n",
       "</div>"
      ],
      "text/plain": [
       "        ORDERNUMBER  QUANTITYORDERED    PRICEEACH  ORDERLINENUMBER  \\\n",
       "count   2823.000000      2823.000000  2823.000000      2823.000000   \n",
       "mean   10258.725115        34.969890    83.658544         6.466171   \n",
       "min    10100.000000         6.000000    26.880000         1.000000   \n",
       "25%    10180.000000        27.000000    68.860000         3.000000   \n",
       "50%    10262.000000        35.000000    95.700000         6.000000   \n",
       "75%    10333.500000        43.000000   100.000000         9.000000   \n",
       "max    10425.000000        66.000000   100.000000        18.000000   \n",
       "std       92.085478         9.453839    20.174277         4.225841   \n",
       "\n",
       "             SALES                      ORDERDATE       QTR_ID     MONTH_ID  \\\n",
       "count  2823.000000                           2823  2823.000000  2823.000000   \n",
       "mean   3382.093294  2004-04-25 07:13:04.272050944     2.717676     7.092455   \n",
       "min     482.130000            2003-01-04 00:00:00     1.000000     1.000000   \n",
       "25%    2203.430000            2003-10-22 00:00:00     2.000000     4.000000   \n",
       "50%    3184.800000            2004-05-05 00:00:00     3.000000     8.000000   \n",
       "75%    4300.410000            2004-11-15 00:00:00     4.000000    11.000000   \n",
       "max    7962.240000            2005-12-01 00:00:00     4.000000    12.000000   \n",
       "std    1554.292834                            NaN     1.203878     3.656633   \n",
       "\n",
       "          YEAR_ID         MSRP  \n",
       "count  2823.00000  2823.000000  \n",
       "mean   2003.81509   100.715551  \n",
       "min    2003.00000    33.000000  \n",
       "25%    2003.00000    68.000000  \n",
       "50%    2004.00000    99.000000  \n",
       "75%    2004.00000   124.000000  \n",
       "max    2005.00000   214.000000  \n",
       "std       0.69967    40.187912  "
      ]
     },
     "execution_count": 177,
     "metadata": {},
     "output_type": "execute_result"
    }
   ],
   "source": [
    "df.describe()"
   ]
  },
  {
   "cell_type": "code",
   "execution_count": 180,
   "id": "ffda3ca3-4771-4337-9f92-3380eed72017",
   "metadata": {},
   "outputs": [
    {
     "data": {
      "text/plain": [
       "DEALSIZE\n",
       "Large      7067\n",
       "Medium    52519\n",
       "Small     39134\n",
       "Name: QUANTITYORDERED, dtype: int64"
      ]
     },
     "execution_count": 180,
     "metadata": {},
     "output_type": "execute_result"
    }
   ],
   "source": [
    "# DEalsize wise total ordered qty \n",
    "\n",
    "df.groupby('DEALSIZE')['QUANTITYORDERED'].sum()"
   ]
  },
  {
   "cell_type": "code",
   "execution_count": 184,
   "id": "9efd5468-e670-4042-b8f7-4b728dd0eca8",
   "metadata": {},
   "outputs": [
    {
     "data": {
      "text/plain": [
       "<matplotlib.legend.Legend at 0x17a8d1a9940>"
      ]
     },
     "execution_count": 184,
     "metadata": {},
     "output_type": "execute_result"
    },
    {
     "data": {
      "image/png": "[encoded data removed]",
      "text/plain": [
       "<Figure size 640x480 with 1 Axes>"
      ]
     },
     "metadata": {},
     "output_type": "display_data"
    }
   ],
   "source": [
    "# DEalsize wise total ordered qty in pie chart\n",
    "\n",
    "df.groupby('DEALSIZE')['QUANTITYORDERED'].sum().plot(kind = 'pie', autopct = '%1.1f%%')\n",
    "plt.title(\"Dealsize wise ordered qty percentage\")\n",
    "plt.legend()"
   ]
  },
  {
   "cell_type": "markdown",
   "id": "07215543-dec8-4b16-94a6-c0e80a372837",
   "metadata": {},
   "source": [
    "#  The pie chart analysis indicates that the majority of the quantity ordered comes from the Medium deal size category,"
   ]
  },
  {
   "cell_type": "code",
   "execution_count": 186,
   "id": "ceccd4e6-bb77-4a82-aca0-eedddecbdaf5",
   "metadata": {},
   "outputs": [
    {
     "data": {
      "text/plain": [
       "DEALSIZE\n",
       "Large      817139.78\n",
       "Medium    6087432.24\n",
       "Small     2643077.35\n",
       "Name: SALES, dtype: float64"
      ]
     },
     "execution_count": 186,
     "metadata": {},
     "output_type": "execute_result"
    }
   ],
   "source": [
    "# DEal size wise total sales\n",
    "\n",
    "df.groupby('DEALSIZE')['SALES'].sum()"
   ]
  },
  {
   "cell_type": "code",
   "execution_count": 191,
   "id": "f3fbc368-f986-455c-aa6e-178d2705f2cc",
   "metadata": {},
   "outputs": [
    {
     "data": {
      "text/plain": [
       "<matplotlib.legend.Legend at 0x17a94d816d0>"
      ]
     },
     "execution_count": 191,
     "metadata": {},
     "output_type": "execute_result"
    },
    {
     "data": {
      "image/png": "[encoded data removed]",
      "text/plain": [
       "<Figure size 640x480 with 1 Axes>"
      ]
     },
     "metadata": {},
     "output_type": "display_data"
    }
   ],
   "source": [
    "df.groupby('DEALSIZE')['SALES'].sum().plot(kind = 'pie', autopct = '%1.1f%%')\n",
    "plt.title(\"Dealsize wise total sales in percentage\")\n",
    "plt.legend()"
   ]
  },
  {
   "cell_type": "markdown",
   "id": "1a8f6aa2-730e-45b5-9028-5bfa6bf9c12e",
   "metadata": {},
   "source": [
    "# The pie chart analysis indicates that the majority of the total sales comes from the Medium deal size category"
   ]
  },
  {
   "cell_type": "code",
   "execution_count": 197,
   "id": "2421808f-1082-497b-92e3-2ad7d946d905",
   "metadata": {},
   "outputs": [
    {
     "data": {
      "text/plain": [
       "COUNTRY\n",
       "USA            35485\n",
       "Spain          12394\n",
       "France         10987\n",
       "Australia       6246\n",
       "UK              5013\n",
       "Italy           3773\n",
       "Finland         3192\n",
       "Norway          2842\n",
       "Singapore       2760\n",
       "Canada          2293\n",
       "Denmark         2197\n",
       "Germany         2148\n",
       "Sweden          2006\n",
       "Austria         1939\n",
       "Japan           1842\n",
       "Switzerland     1078\n",
       "Belgium         1074\n",
       "Philippines      961\n",
       "Ireland          490\n",
       "Name: QUANTITYORDERED, dtype: int64"
      ]
     },
     "execution_count": 197,
     "metadata": {},
     "output_type": "execute_result"
    }
   ],
   "source": [
    "# Country wise total ordered qty\n",
    "\n",
    "df.groupby('COUNTRY')['QUANTITYORDERED'].sum().sort_values(ascending = False)\n"
   ]
  },
  {
   "cell_type": "code",
   "execution_count": 217,
   "id": "34d39a19-16ec-44c6-a0f8-4588e0a32644",
   "metadata": {},
   "outputs": [
    {
     "data": {
      "text/plain": [
       "Text(0.5, 1.0, 'Total Quantityordered by Country')"
      ]
     },
     "execution_count": 217,
     "metadata": {},
     "output_type": "execute_result"
    },
    {
     "data": {
      "image/png": "[encoded data removed]",
      "text/plain": [
       "<Figure size 1000x400 with 1 Axes>"
      ]
     },
     "metadata": {},
     "output_type": "display_data"
    }
   ],
   "source": [
    "plt.figure(figsize = (10,4))\n",
    "df.groupby('COUNTRY')['QUANTITYORDERED'].sum().sort_values(ascending = False).plot(kind = 'bar', width = 0.8)\n",
    "plt.title(\"Total Quantityordered by Country\")\n"
   ]
  },
  {
   "cell_type": "markdown",
   "id": "e9a44473-b183-4ed3-8fd7-6e28e1f8e22f",
   "metadata": {},
   "source": [
    "# \"Upon analyzing the data and reviewing the bar chart, we found that the USA has the highest total quantity ordered among all countries.\""
   ]
  },
  {
   "cell_type": "code",
   "execution_count": 214,
   "id": "226bb324-5dd2-4b14-95bc-e22fa48000bc",
   "metadata": {},
   "outputs": [
    {
     "data": {
      "text/plain": [
       "COUNTRY\n",
       "USA            3445942.03\n",
       "Spain          1165386.88\n",
       "France         1032452.99\n",
       "Australia       597436.32\n",
       "UK              464714.82\n",
       "Italy           348379.88\n",
       "Finland         322160.51\n",
       "Norway          291186.94\n",
       "Singapore       269700.10\n",
       "Denmark         222866.96\n",
       "Canada          218198.47\n",
       "Germany         214715.93\n",
       "Sweden          210014.21\n",
       "Austria         191073.58\n",
       "Japan           180594.61\n",
       "Switzerland     117713.56\n",
       "Belgium         108412.62\n",
       "Philippines      94015.73\n",
       "Ireland          52683.23\n",
       "Name: SALES, dtype: float64"
      ]
     },
     "execution_count": 214,
     "metadata": {},
     "output_type": "execute_result"
    }
   ],
   "source": [
    "# Country wise total sales\n",
    "\n",
    "df.groupby('COUNTRY')['SALES'].sum().sort_values(ascending = False)\n"
   ]
  },
  {
   "cell_type": "code",
   "execution_count": 218,
   "id": "18c215b5-4ef2-40f2-9358-5291c9004771",
   "metadata": {},
   "outputs": [
    {
     "data": {
      "text/plain": [
       "Text(0.5, 1.0, 'Total Quantityordered by Country')"
      ]
     },
     "execution_count": 218,
     "metadata": {},
     "output_type": "execute_result"
    },
    {
     "data": {
      "image/png": "[encoded data removed]",
      "text/plain": [
       "<Figure size 1000x400 with 1 Axes>"
      ]
     },
     "metadata": {},
     "output_type": "display_data"
    }
   ],
   "source": [
    "# Country wise total sales\n",
    "plt.figure(figsize = (10,4))\n",
    "df.groupby('COUNTRY')['SALES'].sum().sort_values(ascending = False).plot(kind = 'bar', width = 0.8 , color = 'orange')\n",
    "plt.title(\"Total Quantityordered by Country\")"
   ]
  },
  {
   "cell_type": "markdown",
   "id": "c9ca6cc0-1e37-4b46-9332-5ba2b0da49e9",
   "metadata": {},
   "source": [
    " # Upon analyzing the data and reviewing the bar chart, we found that the USA has the highest total Sales among all countries.\" --> -->"
   ]
  },
  {
   "cell_type": "code",
   "execution_count": 223,
   "id": "474051b7-906a-4b2d-87cb-504f7e1322ff",
   "metadata": {},
   "outputs": [
    {
     "data": {
      "text/plain": [
       "STATUS\n",
       "Shipped       8855227.71\n",
       "Cancelled      194487.48\n",
       "On Hold        168081.19\n",
       "Resolved       145018.28\n",
       "In Process     131129.20\n",
       "Disputed        53705.51\n",
       "Name: SALES, dtype: float64"
      ]
     },
     "execution_count": 223,
     "metadata": {},
     "output_type": "execute_result"
    }
   ],
   "source": [
    "# sales based on status.\n",
    "\n",
    "df.groupby('STATUS')['SALES'].sum().sort_values(ascending = False)\n"
   ]
  },
  {
   "cell_type": "code",
   "execution_count": 231,
   "id": "3ca6cf20-e182-4865-b02b-97ed4c1c5bcc",
   "metadata": {},
   "outputs": [
    {
     "data": {
      "image/png": "[encoded data removed]",
      "text/plain": [
       "<Figure size 640x480 with 1 Axes>"
      ]
     },
     "metadata": {},
     "output_type": "display_data"
    }
   ],
   "source": [
    "df.groupby('STATUS')['SALES'].sum().sort_values(ascending = False).plot(kind = 'bar')\n",
    "plt.xlabel('Status')\n",
    "plt.ylabel('Total Sales')\n",
    "plt.title('Total Sales by Order Status')\n",
    "plt.show()\n"
   ]
  },
  {
   "cell_type": "markdown",
   "id": "a32be99d-802d-4a17-979c-88d30defaee2",
   "metadata": {},
   "source": [
    "#  \"The bar chart shows that orders with the status 'Shipped' have the highest total sales, indicating most revenue comes from successfully completed shipments.\"\n",
    "\n"
   ]
  },
  {
   "cell_type": "code",
   "execution_count": 243,
   "id": "1d268794-df8e-4242-8e95-83c960d972a4",
   "metadata": {},
   "outputs": [
    {
     "data": {
      "image/png": "[encoded data removed]",
      "text/plain": [
       "<Figure size 1000x600 with 1 Axes>"
      ]
     },
     "metadata": {},
     "output_type": "display_data"
    }
   ],
   "source": [
    "#  Checking the sales by Year\n",
    "plt.figure(figsize = (10,6))\n",
    "df.groupby('YEAR_ID')['SALES'].sum().plot(kind = 'line')\n",
    "plt.title(\"Total Sales Over the Year\")\n",
    "plt.show()"
   ]
  },
  {
   "cell_type": "markdown",
   "id": "bbd58b94-8b07-4ad5-ac2e-edd37c552ae9",
   "metadata": {},
   "source": [
    "# Upon checking the yearly sales we have seen the boost in sales from 2003 to 2004 and after that our sales are decreasing"
   ]
  },
  {
   "cell_type": "code",
   "execution_count": null,
   "id": "c097a6d1-da22-4c1f-96ad-dec7ab75980b",
   "metadata": {},
   "outputs": [],
   "source": [
    "# now checking the quatrwise sales for every year"
   ]
  },
  {
   "cell_type": "code",
   "execution_count": 254,
   "id": "6af25c57-7d92-421c-9907-dc76333989ef",
   "metadata": {},
   "outputs": [
    {
     "data": {
      "text/plain": [
       "array([2003, 2004, 2005])"
      ]
     },
     "execution_count": 254,
     "metadata": {},
     "output_type": "execute_result"
    }
   ],
   "source": [
    "df['YEAR_ID'].unique()"
   ]
  },
  {
   "cell_type": "code",
   "execution_count": 260,
   "id": "b6bc5a64-90a6-4494-adbe-af93dad40863",
   "metadata": {},
   "outputs": [],
   "source": [
    "year_2003 = df[df['YEAR_ID']==2003]\n",
    "year_2004 = df[df['YEAR_ID']==2004]\n",
    "year_2005 = df[df['YEAR_ID']==2005]"
   ]
  },
  {
   "cell_type": "code",
   "execution_count": 267,
   "id": "805ca50b-db12-4919-9a52-62816913daaf",
   "metadata": {},
   "outputs": [
    {
     "data": {
      "text/plain": [
       "QTR_ID\n",
       "4    1801081.70\n",
       "3     609394.68\n",
       "2     533112.96\n",
       "1     434516.93\n",
       "Name: SALES, dtype: float64"
      ]
     },
     "execution_count": 267,
     "metadata": {},
     "output_type": "execute_result"
    }
   ],
   "source": [
    "# 2003 sales\n",
    "year_2003.groupby('QTR_ID')['SALES'].sum().sort_values(ascending = False)"
   ]
  },
  {
   "cell_type": "code",
   "execution_count": 264,
   "id": "272c4534-1768-4391-885b-afa0a7849dbb",
   "metadata": {},
   "outputs": [
    {
     "data": {
      "text/plain": [
       "Text(0.5, 1.0, '2003 Sales Quaterwise')"
      ]
     },
     "execution_count": 264,
     "metadata": {},
     "output_type": "execute_result"
    },
    {
     "data": {
      "image/png": "[encoded data removed]",
      "text/plain": [
       "<Figure size 640x480 with 1 Axes>"
      ]
     },
     "metadata": {},
     "output_type": "display_data"
    }
   ],
   "source": [
    "year_2003.groupby('QTR_ID')['SALES'].sum().sort_values(ascending = False).plot(kind = 'line')\n",
    "plt.title(\"2003 Sales Quaterwise\")"
   ]
  },
  {
   "cell_type": "markdown",
   "id": "4c8a6156-e9fd-4279-a67a-e7b495e447c5",
   "metadata": {},
   "source": [
    "# In 2003 we have genearted most sales in Q4"
   ]
  },
  {
   "cell_type": "code",
   "execution_count": 268,
   "id": "276dfe99-fed4-457d-8b0d-d1bd82291728",
   "metadata": {},
   "outputs": [
    {
     "data": {
      "text/plain": [
       "QTR_ID\n",
       "4    1930304.01\n",
       "3    1065535.57\n",
       "1     799842.81\n",
       "2     748711.69\n",
       "Name: SALES, dtype: float64"
      ]
     },
     "execution_count": 268,
     "metadata": {},
     "output_type": "execute_result"
    }
   ],
   "source": [
    "# 2004 sales\n",
    "year_2004.groupby('QTR_ID')['SALES'].sum().sort_values(ascending = False)"
   ]
  },
  {
   "cell_type": "code",
   "execution_count": 269,
   "id": "a5d4d0d8-5476-4eb3-be93-2951b4369028",
   "metadata": {},
   "outputs": [
    {
     "data": {
      "text/plain": [
       "Text(0.5, 1.0, '2004 Sales Quaterwise')"
      ]
     },
     "execution_count": 269,
     "metadata": {},
     "output_type": "execute_result"
    },
    {
     "data": {
      "image/png": "[encoded data removed]",
      "text/plain": [
       "<Figure size 640x480 with 1 Axes>"
      ]
     },
     "metadata": {},
     "output_type": "display_data"
    }
   ],
   "source": [
    "year_2004.groupby('QTR_ID')['SALES'].sum().sort_values(ascending = False).plot(kind = 'line')\n",
    "plt.title(\"2004 Sales Quaterwise\")"
   ]
  },
  {
   "cell_type": "markdown",
   "id": "1c00c35c-375d-4512-8c2c-efeb62f0c0d0",
   "metadata": {},
   "source": [
    "# In 2004 we have genearted most sales in Q4"
   ]
  },
  {
   "cell_type": "code",
   "execution_count": 271,
   "id": "5f6aee97-1c7f-4e24-9eb5-ae36966f2435",
   "metadata": {},
   "outputs": [
    {
     "data": {
      "text/plain": [
       "QTR_ID\n",
       "1    1019441.92\n",
       "2     605707.10\n",
       "Name: SALES, dtype: float64"
      ]
     },
     "execution_count": 271,
     "metadata": {},
     "output_type": "execute_result"
    }
   ],
   "source": [
    "# 2005 sales\n",
    "year_2005.groupby('QTR_ID')['SALES'].sum().sort_values(ascending = False)"
   ]
  },
  {
   "cell_type": "code",
   "execution_count": 272,
   "id": "7e6b4fa2-6e6d-47a3-bcab-614b7cb72f08",
   "metadata": {},
   "outputs": [
    {
     "data": {
      "text/plain": [
       "Text(0.5, 1.0, '2005 Sales Quaterwise')"
      ]
     },
     "execution_count": 272,
     "metadata": {},
     "output_type": "execute_result"
    },
    {
     "data": {
      "image/png": "[encoded data removed]",
      "text/plain": [
       "<Figure size 640x480 with 1 Axes>"
      ]
     },
     "metadata": {},
     "output_type": "display_data"
    }
   ],
   "source": [
    "year_2005.groupby('QTR_ID')['SALES'].sum().sort_values(ascending = False).plot(kind = 'line')\n",
    "plt.title(\"2005 Sales Quaterwise\")"
   ]
  },
  {
   "cell_type": "markdown",
   "id": "87278756-ffa4-4dfb-9a3d-d55ea360dbbf",
   "metadata": {},
   "source": [
    "# We have good sales in Q1 but in Q2 sales went down in 2005"
   ]
  },
  {
   "cell_type": "markdown",
   "id": "00a7d0c1-889f-41b7-848e-f141cd9182f6",
   "metadata": {},
   "source": [
    "# \"Sales in 2005 appear to be decreasing; however, only Q1 and Q2 data are available for that year, so this trend is incomplete and may not reflect the full year’s performance.\"\n",
    "\n"
   ]
  },
  {
   "cell_type": "code",
   "execution_count": 245,
   "id": "a14f8454-9df3-47c1-a012-d445d0a5f532",
   "metadata": {},
   "outputs": [
    {
     "data": {
      "text/plain": [
       "full_name\n",
       "Diego Freyre        873537.55\n",
       "Valarie Nelson      613842.27\n",
       "Peter Ferguson      188326.12\n",
       "Jeff Young          184688.58\n",
       "Janine Labrune      173270.10\n",
       "                      ...    \n",
       "Pascale Cartrain     33440.10\n",
       "Kee Kuo              33144.93\n",
       "Leslie Taylor        26479.26\n",
       "Carine Schmitt       24179.96\n",
       "Leslie Young          9129.35\n",
       "Name: SALES, Length: 92, dtype: float64"
      ]
     },
     "execution_count": 245,
     "metadata": {},
     "output_type": "execute_result"
    }
   ],
   "source": [
    "#  Which customer spent the more money (top 10)\n",
    "df.groupby('full_name')['SALES'].sum().sort_values(ascending = False)"
   ]
  },
  {
   "cell_type": "code",
   "execution_count": 253,
   "id": "a692d0d7-035c-44e2-83ce-3f18e45c907b",
   "metadata": {},
   "outputs": [
    {
     "data": {
      "image/png": "[encoded data removed]",
      "text/plain": [
       "<Figure size 800x500 with 1 Axes>"
      ]
     },
     "metadata": {},
     "output_type": "display_data"
    }
   ],
   "source": [
    "plt.figure(figsize = (8,5))\n",
    "df.groupby('full_name')['SALES'].sum().sort_values(ascending = False).head(10).plot(kind = 'bar')\n",
    "plt.show()"
   ]
  },
  {
   "cell_type": "code",
   "execution_count": 288,
   "id": "ee55d243-2e9e-4c23-80c3-926ffcf1ad8e",
   "metadata": {},
   "outputs": [
    {
     "data": {
      "image/png": "[encoded data removed]",
      "text/plain": [
       "<Figure size 640x480 with 1 Axes>"
      ]
     },
     "metadata": {},
     "output_type": "display_data"
    }
   ],
   "source": [
    "sns.scatterplot(data=df, x='QUANTITYORDERED', y='SALES', hue='DEALSIZE')\n",
    "plt.title('Quantity Ordered vs Sales by Deal Size')\n",
    "plt.show()\n"
   ]
  },
  {
   "cell_type": "code",
   "execution_count": 291,
   "id": "396b7b15-ea00-4630-b63d-cbaeb5869674",
   "metadata": {},
   "outputs": [],
   "source": [
    "t = df[['QUANTITYORDERED', 'PRICEEACH']]"
   ]
  },
  {
   "cell_type": "code",
   "execution_count": 295,
   "id": "22f4676a-9b53-4737-8cb1-ed8c3f205a8a",
   "metadata": {},
   "outputs": [
    {
     "data": {
      "text/html": [
       "<div>\n",
       "<style scoped>\n",
       "    .dataframe tbody tr th:only-of-type {\n",
       "        vertical-align: middle;\n",
       "    }\n",
       "\n",
       "    .dataframe tbody tr th {\n",
       "        vertical-align: top;\n",
       "    }\n",
       "\n",
       "    .dataframe thead th {\n",
       "        text-align: right;\n",
       "    }\n",
       "</style>\n",
       "<table border=\"1\" class=\"dataframe\">\n",
       "  <thead>\n",
       "    <tr style=\"text-align: right;\">\n",
       "      <th></th>\n",
       "      <th>QUANTITYORDERED</th>\n",
       "      <th>PRICEEACH</th>\n",
       "    </tr>\n",
       "  </thead>\n",
       "  <tbody>\n",
       "    <tr>\n",
       "      <th>QUANTITYORDERED</th>\n",
       "      <td>1.00000</td>\n",
       "      <td>-0.00194</td>\n",
       "    </tr>\n",
       "    <tr>\n",
       "      <th>PRICEEACH</th>\n",
       "      <td>-0.00194</td>\n",
       "      <td>1.00000</td>\n",
       "    </tr>\n",
       "  </tbody>\n",
       "</table>\n",
       "</div>"
      ],
      "text/plain": [
       "                 QUANTITYORDERED  PRICEEACH\n",
       "QUANTITYORDERED          1.00000   -0.00194\n",
       "PRICEEACH               -0.00194    1.00000"
      ]
     },
     "execution_count": 295,
     "metadata": {},
     "output_type": "execute_result"
    }
   ],
   "source": [
    "t.corr()"
   ]
  },
  {
   "cell_type": "code",
   "execution_count": 294,
   "id": "428356ee-219e-4750-831e-4c22dfc1365e",
   "metadata": {},
   "outputs": [
    {
     "data": {
      "text/plain": [
       "<Axes: >"
      ]
     },
     "execution_count": 294,
     "metadata": {},
     "output_type": "execute_result"
    },
    {
     "data": {
      "image/png": "[encoded data removed]",
      "text/plain": [
       "<Figure size 640x480 with 2 Axes>"
      ]
     },
     "metadata": {},
     "output_type": "display_data"
    }
   ],
   "source": [
    "sns.heatmap(data = t.corr(), annot = True)"
   ]
  },
  {
   "cell_type": "markdown",
   "id": "194dc6ba-4822-4256-8675-790badda188c",
   "metadata": {},
   "source": [
    "The correlation between QUANTITYORDERED and PRICEEACH is -0.00194, which is basically zero (very close to 0).\n",
    "\n",
    "This means there is no linear relationship between quantity ordered and price each in your dataset.\n",
    "\n"
   ]
  },
  {
   "cell_type": "code",
   "execution_count": 292,
   "id": "0a23d487-8460-4a6a-8c43-cd00715c2811",
   "metadata": {},
   "outputs": [
    {
     "data": {
      "text/html": [
       "<div>\n",
       "<style scoped>\n",
       "    .dataframe tbody tr th:only-of-type {\n",
       "        vertical-align: middle;\n",
       "    }\n",
       "\n",
       "    .dataframe tbody tr th {\n",
       "        vertical-align: top;\n",
       "    }\n",
       "\n",
       "    .dataframe thead th {\n",
       "        text-align: right;\n",
       "    }\n",
       "</style>\n",
       "<table border=\"1\" class=\"dataframe\">\n",
       "  <thead>\n",
       "    <tr style=\"text-align: right;\">\n",
       "      <th></th>\n",
       "      <th>ORDERNUMBER</th>\n",
       "      <th>QUANTITYORDERED</th>\n",
       "      <th>PRICEEACH</th>\n",
       "      <th>ORDERLINENUMBER</th>\n",
       "      <th>SALES</th>\n",
       "      <th>ORDERDATE</th>\n",
       "      <th>STATUS</th>\n",
       "      <th>QTR_ID</th>\n",
       "      <th>MONTH_ID</th>\n",
       "      <th>YEAR_ID</th>\n",
       "      <th>...</th>\n",
       "      <th>CUSTOMERNAME</th>\n",
       "      <th>PHONE</th>\n",
       "      <th>ADDRESSLINE1</th>\n",
       "      <th>CITY</th>\n",
       "      <th>STATE</th>\n",
       "      <th>POSTALCODE</th>\n",
       "      <th>COUNTRY</th>\n",
       "      <th>TERRITORY</th>\n",
       "      <th>DEALSIZE</th>\n",
       "      <th>full_name</th>\n",
       "    </tr>\n",
       "  </thead>\n",
       "  <tbody>\n",
       "    <tr>\n",
       "      <th>0</th>\n",
       "      <td>10107</td>\n",
       "      <td>30</td>\n",
       "      <td>95.70</td>\n",
       "      <td>2</td>\n",
       "      <td>2871.0</td>\n",
       "      <td>2003-02-24</td>\n",
       "      <td>Shipped</td>\n",
       "      <td>1</td>\n",
       "      <td>2</td>\n",
       "      <td>2003</td>\n",
       "      <td>...</td>\n",
       "      <td>Land of Toys Inc.</td>\n",
       "      <td>2125557818</td>\n",
       "      <td>897 Long Airport Avenue</td>\n",
       "      <td>NYC</td>\n",
       "      <td>NY</td>\n",
       "      <td>10022</td>\n",
       "      <td>USA</td>\n",
       "      <td>unavilable</td>\n",
       "      <td>Small</td>\n",
       "      <td>Kwai Yu</td>\n",
       "    </tr>\n",
       "    <tr>\n",
       "      <th>1</th>\n",
       "      <td>10121</td>\n",
       "      <td>34</td>\n",
       "      <td>81.35</td>\n",
       "      <td>5</td>\n",
       "      <td>2765.9</td>\n",
       "      <td>2003-07-05</td>\n",
       "      <td>Shipped</td>\n",
       "      <td>2</td>\n",
       "      <td>5</td>\n",
       "      <td>2003</td>\n",
       "      <td>...</td>\n",
       "      <td>Reims Collectables</td>\n",
       "      <td>26.47.1555</td>\n",
       "      <td>59 rue de l'Abbaye</td>\n",
       "      <td>Reims</td>\n",
       "      <td>not avilable</td>\n",
       "      <td>51100</td>\n",
       "      <td>France</td>\n",
       "      <td>EMEA</td>\n",
       "      <td>Small</td>\n",
       "      <td>Paul Henriot</td>\n",
       "    </tr>\n",
       "  </tbody>\n",
       "</table>\n",
       "<p>2 rows × 23 columns</p>\n",
       "</div>"
      ],
      "text/plain": [
       "   ORDERNUMBER  QUANTITYORDERED  PRICEEACH  ORDERLINENUMBER   SALES  \\\n",
       "0        10107               30      95.70                2  2871.0   \n",
       "1        10121               34      81.35                5  2765.9   \n",
       "\n",
       "   ORDERDATE   STATUS  QTR_ID  MONTH_ID  YEAR_ID  ...        CUSTOMERNAME  \\\n",
       "0 2003-02-24  Shipped       1         2     2003  ...   Land of Toys Inc.   \n",
       "1 2003-07-05  Shipped       2         5     2003  ...  Reims Collectables   \n",
       "\n",
       "        PHONE             ADDRESSLINE1   CITY         STATE POSTALCODE  \\\n",
       "0  2125557818  897 Long Airport Avenue    NYC            NY      10022   \n",
       "1  26.47.1555       59 rue de l'Abbaye  Reims  not avilable      51100   \n",
       "\n",
       "  COUNTRY   TERRITORY DEALSIZE     full_name  \n",
       "0     USA  unavilable    Small       Kwai Yu  \n",
       "1  France        EMEA    Small  Paul Henriot  \n",
       "\n",
       "[2 rows x 23 columns]"
      ]
     },
     "execution_count": 292,
     "metadata": {},
     "output_type": "execute_result"
    }
   ],
   "source": [
    "df.head(2)"
   ]
  },
  {
   "cell_type": "code",
   "execution_count": null,
   "id": "bd62d6f5-75a9-4f9d-97da-8453f6a68e8a",
   "metadata": {},
   "outputs": [],
   "source": []
  }
 ],
 "metadata": {
  "kernelspec": {
   "display_name": "Python 3 (ipykernel)",
   "language": "python",
   "name": "python3"
  },
  "language_info": {
   "codemirror_mode": {
    "name": "ipython",
    "version": 3
   },
   "file_extension": ".py",
   "mimetype": "text/x-python",
   "name": "python",
   "nbconvert_exporter": "python",
   "pygments_lexer": "ipython3",
   "version": "3.13.2"
  }
 },
 "nbformat": 4,
 "nbformat_minor": 5
}
